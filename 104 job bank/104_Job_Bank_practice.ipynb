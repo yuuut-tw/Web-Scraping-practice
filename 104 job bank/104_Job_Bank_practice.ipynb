{
 "cells": [
  {
   "cell_type": "markdown",
   "source": [
    "<font size=5 color=\"black\">**任務流程**</font>\n",
    "1. 前置作業 ＝> import 需要套件、建立相關身份認證資料\n",
    "2. 打開開發人員工具，找到搜尋html，使用selenium輸入關鍵字搜尋，並進入搜尋結果頁面（詳情：selenium-dcard應用），104為動態網頁，使用selenium進行頁面滑動，依個人需求取得各職缺網址，並存成一個網址list\n",
    "4. 透過迴圈進入各職缺網址內，取得相關資料，append進入output_list中，後續將此list轉成df\n",
    "5. 將爬蟲回來的資料存成df，進行data cleaning，完成後輸出為excel檔！"
   ],
   "metadata": {}
  },
  {
   "cell_type": "markdown",
   "source": [
    "參考資料:\n",
    "<br>\n",
    "1. [104人力銀行 網路爬蟲](https://tlyu0419.github.io/2020/06/19/Crawler-104HumanResource/)\n",
    "<br>\n",
    "2. [[網頁爬蟲] 104人力銀行標籤抓不到內容](https://ithelp.ithome.com.tw/questions/10198403)\n",
    "<br>\n",
    "3. [Python 使用 Beautiful Soup 抓取與解析網頁資料，開發網路爬蟲教學](https://blog.gtwang.org/programming/python-beautiful-soup-module-scrape-web-pages-tutorial/2/)"
   ],
   "metadata": {}
  },
  {
   "cell_type": "markdown",
   "source": [
    "### 前置作業 ＝> import 需要套件、建立headers&相關cookies資料\n",
    "1. 設置optins => 擋掉跳出視窗\n",
    "2. 建立headers\n",
    "3. 準備參數cookies (全職、關鍵字、清單條例式)"
   ],
   "metadata": {}
  },
  {
   "cell_type": "code",
   "execution_count": 3,
   "source": [
    "import time\n",
    "import re\n",
    "import random\n",
    "import requests\n",
    "import pandas as pd\n",
    "from bs4 import BeautifulSoup\n",
    "from selenium.webdriver import Chrome\n",
    "from selenium.webdriver.chrome.options import Options\n",
    "from fake_useragent import UserAgent\n"
   ],
   "outputs": [],
   "metadata": {
    "ExecuteTime": {
     "end_time": "2021-05-27T06:17:58.979564Z",
     "start_time": "2021-05-27T06:17:58.229773Z"
    }
   }
  },
  {
   "cell_type": "code",
   "execution_count": 4,
   "source": [
    "# 參數設定\n",
    "options = Options()\n",
    "options.add_argument(\"--disable-notifications\")\n",
    "options.add_argument(\"--headless\")\n",
    "\n",
    "url_search = \"https://104.com.tw/jobs/search/?\"\n",
    "ua = UserAgent()\n",
    "headers = {'User-Agent': ua.google}\n",
    "my_params = {'ro': '1',                # 限定全職的工作，如果不限定則輸入0\n",
    "             'keyword': '數據分析',     # 想要查詢的關鍵字\n",
    "             'mode': 'l'}              # 清單瀏覽模式\n"
   ],
   "outputs": [],
   "metadata": {
    "ExecuteTime": {
     "end_time": "2021-05-27T06:18:00.590939Z",
     "start_time": "2021-05-27T06:18:00.583955Z"
    }
   }
  },
  {
   "cell_type": "code",
   "execution_count": null,
   "source": [],
   "outputs": [],
   "metadata": {}
  },
  {
   "cell_type": "markdown",
   "source": [
    "### 打開開發人員工具，找到搜尋html，使用selenium輸入關鍵字搜尋，並進入搜尋結果頁面\n",
    "\n",
    "1. session連線 => 帶著my_params通過搜尋頁面，抵達搜尋結果頁面，104為動態網頁，使用selenium進行頁面滑動\n",
    "2. 輸入欲爬取至第幾頁面\n",
    "3. 建立url的beautiful soup物件，取得各職缺網址並存成work_url_lists\n",
    "    - 使用**driver.page_source**來取得所有頁面資訊\n",
    "    - 過濾掉置頂徵才廣告 => url中jobsource參數等於hotjob_chr者\n",
    "    - 取得url中的職缺編號，並組成app版網址 =>　https://m.104.com.tw/job/ + 職缺編號(ex. 5944x)"
   ],
   "metadata": {}
  },
  {
   "cell_type": "code",
   "execution_count": 5,
   "source": [
    "# session 連線\n",
    "# 帶著參數通過搜尋頁面，抵達結果頁面的網址\n",
    "ss = requests.session()\n",
    "res = ss.get(url_search, headers=headers, params=my_params)\n",
    "\n",
    "# 104為動態網頁，使用selenium進行頁面滑動，蒐集網址\n",
    "# 輸入欲爬取至第幾頁面\n",
    "page_number = int(input(\"請輸入欲爬取至第幾頁面: \"))\n",
    "driver = Chrome(\"../chromedriver\", options=options)\n",
    "driver.get(res.url)\n",
    "for i in range(1, page_number+1):\n",
    "    driver.execute_script(\"var s = document.documentElement.scrollTop=5000\")\n",
    "    print(\"目前爬至第{}頁\".format(i))\n",
    "    time.sleep(random.randint(4, 10))\n",
    "\n",
    "# 建立beautiful soup物件\n",
    "# 使用driver.page_source來取得所有頁面資訊\n",
    "# 過濾掉置頂徵才廣告 => url中包含hotjob_chr參數\n",
    "# 取得url中的職缺編號，並組成手機版網址 =>　https://m.104.com.tw/job/ + 職缺編號(ex. 5944x)\n",
    "soup = BeautifulSoup(driver.page_source, features='html.parser')\n",
    "url_data = [url[\"href\"] for url in soup.select('li.job-mode__jobname a') if url[\"href\"].split(\"=\")[1] != 'hotjob_chr']\n",
    "work_url_lists = list(map(lambda url: 'https://m.104.com.tw/job/{}'.format(re.findall(\"job/(.*)\\?\", url)[0]), url_data))\n",
    "\n",
    "\n",
    "# 關閉頁面\n",
    "driver.close()"
   ],
   "outputs": [
    {
     "output_type": "stream",
     "name": "stdout",
     "text": [
      "目前爬至第1頁\n",
      "目前爬至第2頁\n",
      "目前爬至第3頁\n",
      "目前爬至第4頁\n",
      "目前爬至第5頁\n",
      "目前爬至第6頁\n",
      "目前爬至第7頁\n",
      "目前爬至第8頁\n",
      "目前爬至第9頁\n",
      "目前爬至第10頁\n",
      "目前爬至第11頁\n",
      "目前爬至第12頁\n",
      "目前爬至第13頁\n",
      "目前爬至第14頁\n",
      "目前爬至第15頁\n",
      "目前爬至第16頁\n",
      "目前爬至第17頁\n",
      "目前爬至第18頁\n",
      "目前爬至第19頁\n",
      "目前爬至第20頁\n"
     ]
    }
   ],
   "metadata": {
    "ExecuteTime": {
     "end_time": "2021-05-27T06:18:48.381505Z",
     "start_time": "2021-05-27T06:18:05.135232Z"
    }
   }
  },
  {
   "cell_type": "code",
   "execution_count": 6,
   "source": [
    "print(work_url_lists)"
   ],
   "outputs": [
    {
     "output_type": "stream",
     "name": "stdout",
     "text": [
      "['https://m.104.com.tw/job/799p1', 'https://m.104.com.tw/job/5944x', 'https://m.104.com.tw/job/498rd', 'https://m.104.com.tw/job/6j51q', 'https://m.104.com.tw/job/6sxgk', 'https://m.104.com.tw/job/758eh', 'https://m.104.com.tw/job/7bvz9', 'https://m.104.com.tw/job/6o8n5', 'https://m.104.com.tw/job/7cp7j', 'https://m.104.com.tw/job/7b6ym', 'https://m.104.com.tw/job/7dgi7', 'https://m.104.com.tw/job/71rrj', 'https://m.104.com.tw/job/6jbr5', 'https://m.104.com.tw/job/777rm', 'https://m.104.com.tw/job/7bk2k', 'https://m.104.com.tw/job/6l0xo', 'https://m.104.com.tw/job/7874u', 'https://m.104.com.tw/job/6lg8y', 'https://m.104.com.tw/job/6vpzg', 'https://m.104.com.tw/job/6xtpc', 'https://m.104.com.tw/job/6fjk7', 'https://m.104.com.tw/job/7a385', 'https://m.104.com.tw/job/6hmzf', 'https://m.104.com.tw/job/7b0oa', 'https://m.104.com.tw/job/6x5r9', 'https://m.104.com.tw/job/7bgeg', 'https://m.104.com.tw/job/6bcn9', 'https://m.104.com.tw/job/79ypd', 'https://m.104.com.tw/job/6kzbe', 'https://m.104.com.tw/job/6z47p', 'https://m.104.com.tw/job/79x3h', 'https://m.104.com.tw/job/6z9c7', 'https://m.104.com.tw/job/6lg8y', 'https://m.104.com.tw/job/71rrj', 'https://m.104.com.tw/job/7a2jf', 'https://m.104.com.tw/job/78dli', 'https://m.104.com.tw/job/6bcn9', 'https://m.104.com.tw/job/6uj8e', 'https://m.104.com.tw/job/7avri', 'https://m.104.com.tw/job/6az1x', 'https://m.104.com.tw/job/6q0lc', 'https://m.104.com.tw/job/70icw', 'https://m.104.com.tw/job/6nnhm', 'https://m.104.com.tw/job/7ck9p', 'https://m.104.com.tw/job/7874u', 'https://m.104.com.tw/job/4nlto', 'https://m.104.com.tw/job/7azmv', 'https://m.104.com.tw/job/7cnnn', 'https://m.104.com.tw/job/6o8n5', 'https://m.104.com.tw/job/6v16r', 'https://m.104.com.tw/job/7b3z5', 'https://m.104.com.tw/job/777rm', 'https://m.104.com.tw/job/6n0rh', 'https://m.104.com.tw/job/7a3gk', 'https://m.104.com.tw/job/4zlf9', 'https://m.104.com.tw/job/7d2xb', 'https://m.104.com.tw/job/7bkfe', 'https://m.104.com.tw/job/778eu', 'https://m.104.com.tw/job/6x5r9', 'https://m.104.com.tw/job/6kzbe', 'https://m.104.com.tw/job/7b2x2', 'https://m.104.com.tw/job/6xe3b', 'https://m.104.com.tw/job/76e16', 'https://m.104.com.tw/job/79ilu', 'https://m.104.com.tw/job/7aoby', 'https://m.104.com.tw/job/788p9', 'https://m.104.com.tw/job/788pg', 'https://m.104.com.tw/job/7b0oa', 'https://m.104.com.tw/job/7ce8o', 'https://m.104.com.tw/job/5bab9', 'https://m.104.com.tw/job/6m335', 'https://m.104.com.tw/job/6xj2k', 'https://m.104.com.tw/job/74mmd', 'https://m.104.com.tw/job/793ta', 'https://m.104.com.tw/job/7a385', 'https://m.104.com.tw/job/7bb4v', 'https://m.104.com.tw/job/73jyp', 'https://m.104.com.tw/job/6sv02', 'https://m.104.com.tw/job/70ex2', 'https://m.104.com.tw/job/6xjw0', 'https://m.104.com.tw/job/7d4ek', 'https://m.104.com.tw/job/76sjb', 'https://m.104.com.tw/job/6eyou', 'https://m.104.com.tw/job/7apag', 'https://m.104.com.tw/job/7beve', 'https://m.104.com.tw/job/7ciwr', 'https://m.104.com.tw/job/7cr09', 'https://m.104.com.tw/job/4uzdr', 'https://m.104.com.tw/job/6el89', 'https://m.104.com.tw/job/6xvvs', 'https://m.104.com.tw/job/4ewv7', 'https://m.104.com.tw/job/6ds2z', 'https://m.104.com.tw/job/7cabn', 'https://m.104.com.tw/job/6u7bu', 'https://m.104.com.tw/job/74peo', 'https://m.104.com.tw/job/76401', 'https://m.104.com.tw/job/6oyrc', 'https://m.104.com.tw/job/7czw6', 'https://m.104.com.tw/job/4xn8j', 'https://m.104.com.tw/job/77jdy', 'https://m.104.com.tw/job/7cr9e', 'https://m.104.com.tw/job/4u5lb', 'https://m.104.com.tw/job/7c723', 'https://m.104.com.tw/job/7c71p', 'https://m.104.com.tw/job/70mim', 'https://m.104.com.tw/job/79xl9', 'https://m.104.com.tw/job/76bum', 'https://m.104.com.tw/job/76bo0', 'https://m.104.com.tw/job/7bps7', 'https://m.104.com.tw/job/7anrs', 'https://m.104.com.tw/job/7bps3', 'https://m.104.com.tw/job/7c55s', 'https://m.104.com.tw/job/7bep4', 'https://m.104.com.tw/job/7b4jq', 'https://m.104.com.tw/job/4wlhn', 'https://m.104.com.tw/job/7ay7f', 'https://m.104.com.tw/job/6oan2', 'https://m.104.com.tw/job/7a3ng', 'https://m.104.com.tw/job/7cfoj', 'https://m.104.com.tw/job/7cik8', 'https://m.104.com.tw/job/799di', 'https://m.104.com.tw/job/7ckqp', 'https://m.104.com.tw/job/7cpfl', 'https://m.104.com.tw/job/7bn7l', 'https://m.104.com.tw/job/76hef', 'https://m.104.com.tw/job/7clhx', 'https://m.104.com.tw/job/78oiv', 'https://m.104.com.tw/job/7cf00', 'https://m.104.com.tw/job/7c9yb', 'https://m.104.com.tw/job/79xli', 'https://m.104.com.tw/job/72l8n', 'https://m.104.com.tw/job/73jfn', 'https://m.104.com.tw/job/7bs9n', 'https://m.104.com.tw/job/7al2g', 'https://m.104.com.tw/job/6tqjf', 'https://m.104.com.tw/job/6vdp2', 'https://m.104.com.tw/job/79wh1', 'https://m.104.com.tw/job/3euik', 'https://m.104.com.tw/job/7ayqg', 'https://m.104.com.tw/job/77va2', 'https://m.104.com.tw/job/6y5r2', 'https://m.104.com.tw/job/6z47p', 'https://m.104.com.tw/job/6ikb5', 'https://m.104.com.tw/job/5v8uo', 'https://m.104.com.tw/job/79tsj', 'https://m.104.com.tw/job/76h71', 'https://m.104.com.tw/job/7cogh', 'https://m.104.com.tw/job/6a28o', 'https://m.104.com.tw/job/7c8ip', 'https://m.104.com.tw/job/750o4']\n"
     ]
    }
   ],
   "metadata": {}
  },
  {
   "cell_type": "markdown",
   "source": [
    "### 透過迴圈進入各職缺網址內，取得相關資料，append進入output中，後續將此轉成df\n",
    "1. 每3秒爬一次，避免被鎖ip或是重導到電腦版網址，因而產生錯誤\n",
    "2. 取得職缺相關資料\n",
    "    - 更新時間、公司、職位、工作地點、工作內容\n",
    "    - 工作需求技能、工具、其他條件\n",
    "    - 額外資訊(聯絡人、薪水)\n",
    "5. append進入output"
   ],
   "metadata": {}
  },
  {
   "cell_type": "code",
   "execution_count": 7,
   "source": [
    "# 每3秒爬一次，避免被鎖或是導向網頁，造成錯誤發生\n",
    "output = []\n",
    "for work_url in work_url_lists:\n",
    "    print(work_url)\n",
    "    res_work = ss.get(work_url, headers=headers, allow_redirects=False)\n",
    "    w_soup = BeautifulSoup(res_work.text, 'html.parser')\n",
    "    \n",
    "    try:\n",
    "        # 更新時間、公司、職位、工作地點、工作內容\n",
    "        update_time = w_soup.select(\"time\")[0]['datetime']\n",
    "        company = w_soup.select('h2.company')[0].text\n",
    "        title = w_soup.select('h1.title')[0].text\n",
    "        work_place = w_soup.select('div.content a.addr')[0].text.strip()\n",
    "        description = w_soup.select(\"div.content p\")[0].text.strip()\n",
    "        \n",
    "        # 工作需求技能、工具、其他條件\n",
    "        job_skill = \" \".join([i.text for i in w_soup.select(\"a[data-gtm='job-skill']\")])\n",
    "        job_tool = \" \".join([i.text for i in w_soup.select(\"a[data-gtm='job-tool']\")])\n",
    "        if w_soup.select(\"td div.cut\"):\n",
    "            plus = w_soup.select(\"td div.cut\")[0].text\n",
    "        else:\n",
    "            plus = \"\"\n",
    "        \n",
    "        ### 額外資訊(聯絡人、薪水)\n",
    "        recruiter = w_soup.find_all(\"table\", class_=\"column2 contact\")[0].select(\"td\")[0].text\n",
    "        extra_data = ''.join([t.text for t in w_soup.select(\"table.column2 td\")])\n",
    "        salary = re.findall(r\"待遇面議.*|[年月]薪.*[元以上]\", extra_data) \n",
    "        \n",
    "    except ValueError as e:\n",
    "        print(\"Value error\", work_url)\n",
    "    except IndexError as e:\n",
    "        print(\"Index error\", work_url)\n",
    "        \n",
    "    output.append([update_time, company, title, work_place, salary, description, job_skill, job_tool, plus, recruiter, work_url])\n",
    "    \n",
    "    time.sleep(3)\n"
   ],
   "outputs": [
    {
     "output_type": "stream",
     "name": "stdout",
     "text": [
      "https://m.104.com.tw/job/799p1\n",
      "https://m.104.com.tw/job/5944x\n",
      "https://m.104.com.tw/job/498rd\n",
      "https://m.104.com.tw/job/6j51q\n",
      "https://m.104.com.tw/job/6sxgk\n",
      "https://m.104.com.tw/job/758eh\n",
      "https://m.104.com.tw/job/7bvz9\n",
      "https://m.104.com.tw/job/6o8n5\n",
      "https://m.104.com.tw/job/7cp7j\n",
      "https://m.104.com.tw/job/7b6ym\n",
      "https://m.104.com.tw/job/7dgi7\n",
      "https://m.104.com.tw/job/71rrj\n",
      "https://m.104.com.tw/job/6jbr5\n",
      "https://m.104.com.tw/job/777rm\n",
      "https://m.104.com.tw/job/7bk2k\n",
      "https://m.104.com.tw/job/6l0xo\n",
      "https://m.104.com.tw/job/7874u\n",
      "https://m.104.com.tw/job/6lg8y\n",
      "https://m.104.com.tw/job/6vpzg\n",
      "https://m.104.com.tw/job/6xtpc\n",
      "https://m.104.com.tw/job/6fjk7\n",
      "https://m.104.com.tw/job/7a385\n",
      "https://m.104.com.tw/job/6hmzf\n",
      "https://m.104.com.tw/job/7b0oa\n",
      "https://m.104.com.tw/job/6x5r9\n",
      "https://m.104.com.tw/job/7bgeg\n",
      "https://m.104.com.tw/job/6bcn9\n",
      "https://m.104.com.tw/job/79ypd\n",
      "https://m.104.com.tw/job/6kzbe\n",
      "https://m.104.com.tw/job/6z47p\n",
      "https://m.104.com.tw/job/79x3h\n",
      "https://m.104.com.tw/job/6z9c7\n",
      "https://m.104.com.tw/job/6lg8y\n",
      "https://m.104.com.tw/job/71rrj\n",
      "https://m.104.com.tw/job/7a2jf\n",
      "https://m.104.com.tw/job/78dli\n",
      "https://m.104.com.tw/job/6bcn9\n",
      "https://m.104.com.tw/job/6uj8e\n",
      "https://m.104.com.tw/job/7avri\n",
      "https://m.104.com.tw/job/6az1x\n",
      "https://m.104.com.tw/job/6q0lc\n",
      "https://m.104.com.tw/job/70icw\n",
      "https://m.104.com.tw/job/6nnhm\n",
      "https://m.104.com.tw/job/7ck9p\n",
      "https://m.104.com.tw/job/7874u\n",
      "https://m.104.com.tw/job/4nlto\n",
      "https://m.104.com.tw/job/7azmv\n",
      "https://m.104.com.tw/job/7cnnn\n",
      "https://m.104.com.tw/job/6o8n5\n",
      "https://m.104.com.tw/job/6v16r\n",
      "https://m.104.com.tw/job/7b3z5\n",
      "https://m.104.com.tw/job/777rm\n",
      "https://m.104.com.tw/job/6n0rh\n",
      "https://m.104.com.tw/job/7a3gk\n",
      "https://m.104.com.tw/job/4zlf9\n",
      "https://m.104.com.tw/job/7d2xb\n",
      "https://m.104.com.tw/job/7bkfe\n",
      "https://m.104.com.tw/job/778eu\n",
      "https://m.104.com.tw/job/6x5r9\n",
      "https://m.104.com.tw/job/6kzbe\n",
      "https://m.104.com.tw/job/7b2x2\n",
      "https://m.104.com.tw/job/6xe3b\n",
      "https://m.104.com.tw/job/76e16\n",
      "https://m.104.com.tw/job/79ilu\n",
      "https://m.104.com.tw/job/7aoby\n",
      "https://m.104.com.tw/job/788p9\n",
      "https://m.104.com.tw/job/788pg\n",
      "https://m.104.com.tw/job/7b0oa\n",
      "https://m.104.com.tw/job/7ce8o\n",
      "https://m.104.com.tw/job/5bab9\n",
      "https://m.104.com.tw/job/6m335\n",
      "https://m.104.com.tw/job/6xj2k\n",
      "https://m.104.com.tw/job/74mmd\n",
      "https://m.104.com.tw/job/793ta\n",
      "https://m.104.com.tw/job/7a385\n",
      "https://m.104.com.tw/job/7bb4v\n",
      "https://m.104.com.tw/job/73jyp\n",
      "https://m.104.com.tw/job/6sv02\n",
      "https://m.104.com.tw/job/70ex2\n",
      "https://m.104.com.tw/job/6xjw0\n",
      "https://m.104.com.tw/job/7d4ek\n",
      "https://m.104.com.tw/job/76sjb\n",
      "https://m.104.com.tw/job/6eyou\n",
      "https://m.104.com.tw/job/7apag\n",
      "https://m.104.com.tw/job/7beve\n",
      "https://m.104.com.tw/job/7ciwr\n",
      "https://m.104.com.tw/job/7cr09\n",
      "https://m.104.com.tw/job/4uzdr\n",
      "https://m.104.com.tw/job/6el89\n",
      "https://m.104.com.tw/job/6xvvs\n",
      "https://m.104.com.tw/job/4ewv7\n",
      "https://m.104.com.tw/job/6ds2z\n",
      "https://m.104.com.tw/job/7cabn\n",
      "https://m.104.com.tw/job/6u7bu\n",
      "https://m.104.com.tw/job/74peo\n",
      "https://m.104.com.tw/job/76401\n",
      "https://m.104.com.tw/job/6oyrc\n",
      "https://m.104.com.tw/job/7czw6\n",
      "https://m.104.com.tw/job/4xn8j\n",
      "https://m.104.com.tw/job/77jdy\n",
      "https://m.104.com.tw/job/7cr9e\n",
      "https://m.104.com.tw/job/4u5lb\n",
      "https://m.104.com.tw/job/7c723\n",
      "https://m.104.com.tw/job/7c71p\n",
      "https://m.104.com.tw/job/70mim\n",
      "https://m.104.com.tw/job/79xl9\n",
      "https://m.104.com.tw/job/76bum\n",
      "https://m.104.com.tw/job/76bo0\n",
      "https://m.104.com.tw/job/7bps7\n",
      "https://m.104.com.tw/job/7anrs\n",
      "https://m.104.com.tw/job/7bps3\n",
      "https://m.104.com.tw/job/7c55s\n",
      "https://m.104.com.tw/job/7bep4\n",
      "https://m.104.com.tw/job/7b4jq\n",
      "https://m.104.com.tw/job/4wlhn\n",
      "https://m.104.com.tw/job/7ay7f\n",
      "https://m.104.com.tw/job/6oan2\n",
      "https://m.104.com.tw/job/7a3ng\n",
      "https://m.104.com.tw/job/7cfoj\n",
      "https://m.104.com.tw/job/7cik8\n",
      "https://m.104.com.tw/job/799di\n",
      "https://m.104.com.tw/job/7ckqp\n",
      "https://m.104.com.tw/job/7cpfl\n",
      "https://m.104.com.tw/job/7bn7l\n",
      "https://m.104.com.tw/job/76hef\n",
      "https://m.104.com.tw/job/7clhx\n",
      "https://m.104.com.tw/job/78oiv\n",
      "https://m.104.com.tw/job/7cf00\n",
      "https://m.104.com.tw/job/7c9yb\n",
      "https://m.104.com.tw/job/79xli\n",
      "https://m.104.com.tw/job/72l8n\n",
      "https://m.104.com.tw/job/73jfn\n",
      "https://m.104.com.tw/job/7bs9n\n",
      "https://m.104.com.tw/job/7al2g\n",
      "https://m.104.com.tw/job/6tqjf\n",
      "https://m.104.com.tw/job/6vdp2\n",
      "https://m.104.com.tw/job/79wh1\n",
      "https://m.104.com.tw/job/3euik\n",
      "https://m.104.com.tw/job/7ayqg\n",
      "https://m.104.com.tw/job/77va2\n",
      "https://m.104.com.tw/job/6y5r2\n",
      "https://m.104.com.tw/job/6z47p\n",
      "https://m.104.com.tw/job/6ikb5\n",
      "https://m.104.com.tw/job/5v8uo\n",
      "https://m.104.com.tw/job/79tsj\n",
      "https://m.104.com.tw/job/76h71\n",
      "https://m.104.com.tw/job/7cogh\n",
      "https://m.104.com.tw/job/6a28o\n",
      "https://m.104.com.tw/job/7c8ip\n",
      "https://m.104.com.tw/job/750o4\n"
     ]
    }
   ],
   "metadata": {
    "ExecuteTime": {
     "end_time": "2021-05-27T07:43:41.007587Z",
     "start_time": "2021-05-27T07:43:40.416536Z"
    },
    "scrolled": true
   }
  },
  {
   "cell_type": "code",
   "execution_count": null,
   "source": [],
   "outputs": [],
   "metadata": {}
  },
  {
   "cell_type": "markdown",
   "source": [
    "### 將爬蟲回來的資料存成df，進行data cleaning\n",
    "1. 設置欄位\n",
    "2. 去除重複值 => 透過company, title, work_place來篩選，保留第一個(日期較新)\n",
    "3. 建立將df備份成df2，避免資料處理中不小心改動到原檔因而得重新來過"
   ],
   "metadata": {}
  },
  {
   "cell_type": "code",
   "execution_count": 8,
   "source": [
    "df = pd.DataFrame(output, \n",
    "                  columns=['update_time', 'company', 'title', 'work_place', 'salary', 'description', 'job_skill', 'job_tool', \"plus\", \"recruiter\", \"URL\"])"
   ],
   "outputs": [],
   "metadata": {
    "ExecuteTime": {
     "end_time": "2021-05-27T06:30:30.142148Z",
     "start_time": "2021-05-27T06:30:30.118144Z"
    }
   }
  },
  {
   "cell_type": "code",
   "execution_count": 9,
   "source": [
    "df.shape"
   ],
   "outputs": [
    {
     "output_type": "execute_result",
     "data": {
      "text/plain": [
       "(150, 11)"
      ]
     },
     "metadata": {},
     "execution_count": 9
    }
   ],
   "metadata": {
    "ExecuteTime": {
     "end_time": "2021-05-27T06:30:31.685496Z",
     "start_time": "2021-05-27T06:30:31.660833Z"
    },
    "scrolled": true
   }
  },
  {
   "cell_type": "code",
   "execution_count": 41,
   "source": [
    "df2 = df.copy()"
   ],
   "outputs": [],
   "metadata": {
    "ExecuteTime": {
     "end_time": "2021-05-27T06:30:32.541021Z",
     "start_time": "2021-05-27T06:30:32.528055Z"
    }
   }
  },
  {
   "cell_type": "markdown",
   "source": [
    "#### 去除重複值 => 透過company, title, work_place來篩選掉相同重複值缺，保留第一個(日期較新)"
   ],
   "metadata": {}
  },
  {
   "cell_type": "code",
   "execution_count": 43,
   "source": [
    "df2.drop_duplicates(subset=['company', 'title', 'work_place'], keep=\"first\", inplace=True)\n",
    "df2.sort_values(by=\"update_time\", ascending=False, inplace=True)\n",
    "df2"
   ],
   "outputs": [
    {
     "output_type": "execute_result",
     "data": {
      "text/plain": [
       "    update_time                   company                               title  \\\n",
       "93   2021-09-06                慧邦科技股份有限公司  BI 遊戲數據分析工程師(Data Scientist) -視訊面試   \n",
       "9    2021-09-06                  芮陽國際有限公司                               數據分析師   \n",
       "22   2021-09-06             神揚保險代理人股份有限公司                              數據分析人員   \n",
       "91   2021-09-06    醫療財團法人徐元智先生醫藥基金會亞東紀念醫院                      [行政]企劃處/數據分析專員   \n",
       "88   2021-09-06                  愛達科技有限公司                          網路行銷數據分析人員   \n",
       "..          ...                       ...                                 ...   \n",
       "139  2021-07-12                中山醫學大學附設醫院                             臨床數據分析師   \n",
       "81   2021-06-25  DECATHLON法商迪卡儂_台灣迪卡儂有限公司          [電子商務部] 數據分析師 Data Analyst   \n",
       "104  2021-05-05                 聯合報股份有限公司                      【數據發展部】助理數據分析師   \n",
       "101  2021-05-05                 聯合報股份有限公司                        【數據發展部】數據分析師   \n",
       "24   2021-04-23                華碩電腦股份有限公司                   AD30084 數據分析運用工程師   \n",
       "\n",
       "                                            work_place  \\\n",
       "93                                              台北市中正區   \n",
       "9                              台中市西屯區潮洋里市政北二路238號15樓之5   \n",
       "22                                     新北市新店區中正路531號6樓   \n",
       "91   新北市板橋區南雅南路二段21號                               ...   \n",
       "88   台北市松山區復興北路231巷19-1號2樓(仁富框廠後棟2樓)               ...   \n",
       "..                                                 ...   \n",
       "139  台中市南區建國北路一段110號                               ...   \n",
       "81   台中市南屯區大墩南路379號                                ...   \n",
       "104                                    新北市汐止區大同路一段369號   \n",
       "101                                    新北市汐止區大同路一段369號   \n",
       "24                                              台北市北投區   \n",
       "\n",
       "                                                salary  \\\n",
       "93   [待遇面議                                         ...   \n",
       "9    [待遇面議                                         ...   \n",
       "22   [待遇面議                                         ...   \n",
       "91                                 [月薪 40,000~42,000元]   \n",
       "88                                 [月薪 33,000~38,000元]   \n",
       "..                                                 ...   \n",
       "139                                     [月薪 34,000元以上]   \n",
       "81   [待遇面議                                         ...   \n",
       "104                                [月薪 34,000~45,000元]   \n",
       "101                                [月薪 38,000~58,000元]   \n",
       "24                                 [月薪 30,000~60,000元]   \n",
       "\n",
       "                                           description  \\\n",
       "93   【職務說明】1. 數據後台功能開發。2. 數據資料庫建置與維護。3. 報表排程建置與維護。4...   \n",
       "9    1.具備資料庫結構(MySQL)與擷取資料2.熟悉大數據處理相關技術與統計之資料相關實務經驗...   \n",
       "22   1.整理編寫每週業務數據分析報告。2.專案需求分析、數據分析、商業分析和數據採擷模型等。3....   \n",
       "91   1.  專案企劃與執行\\r2.  資料庫建立與數據分析\\r3.  其他交辦事項\\r4.  數...   \n",
       "88   1.官網及各站台momo、雅虎、蝦皮等行銷活动規劃。\\r2.具美感並能與設計溝通版面構成，規...   \n",
       "..                                                 ...   \n",
       "139  1.臨床研究需求與可行性評估2.臨床資料銜接3.臨床資料清潔整理與統計分析4.臨床影像標註5...   \n",
       "81   1.根據數據發現業務提升點、發揮數據價值導向，深入了解各平台廣告投放規則，給予有效的運營類數...   \n",
       "104  1.\\t擔任精準廣告溝通橋樑，負責監控、優化、管理專案進度。\\r2.\\t定期分析廣告/EDM...   \n",
       "101  本職務主要是透過各種客戶行為資料，分析客戶行為特徵，找出客戶行為模式，即時及預測客戶的需要，...   \n",
       "24   1. 具有網路基礎架構與網路服務常識2. 具有 Window、Linux基本管理能力3. 具...   \n",
       "\n",
       "                                             job_skill  \\\n",
       "93                                                       \n",
       "9                                                        \n",
       "22                                                       \n",
       "91                                     統計軟體操作 文書處理軟體操作   \n",
       "88                                                       \n",
       "..                                                 ...   \n",
       "139                                                      \n",
       "81   專案時間╱進度控管 專案溝通╱整合管理 專案管理架構及專案說明 提案與簡報技巧 網路活動規劃...   \n",
       "104                                                      \n",
       "101                                                      \n",
       "24                                                       \n",
       "\n",
       "                                              job_tool  \\\n",
       "93                                    PHP MySQL jQuery   \n",
       "9                               Python R MySQL Tableau   \n",
       "22                     Excel PowerPoint Word 中文打字20~50   \n",
       "91                 Python R ANSI SQL MS SQL PL/SQL SAS   \n",
       "88                       Google Analytics Google Trend   \n",
       "..                                                 ...   \n",
       "139                                                      \n",
       "81   PHP Python MySQL JavaScript XML jQuery Tableau...   \n",
       "104                                  Python Excel SPSS   \n",
       "101                                       PL/SQL Excel   \n",
       "24                                              hadoop   \n",
       "\n",
       "                                                  plus recruiter  \\\n",
       "93   \\n                        ★因配合防疫措施，目前皆採用視訊面試進行...       余小姐   \n",
       "9    \\n                        需擅長:數據統計分析/機率計算/資料庫應...        芮陽   \n",
       "22   \\n                        1.\\t擅溝通、細心、認真負責\\r2.\\...       徐小姐   \n",
       "91   \\n                        【科系要求】\\r公共衛生、資訊相關、統計...       吳小姐   \n",
       "88                                                           康先生   \n",
       "..                                                 ...       ...   \n",
       "139  \\n                        有資料庫實務經驗擅長統計分析臨床醫護經驗...       黃小姐   \n",
       "81   \\n                        -熱愛運動, 經常從事至少一項以上的運動...      Jack   \n",
       "104  \\n                        1.\\t有一年以上的廣告代理商經驗佳。\\...       黃小姐   \n",
       "101  \\n                        一、個人特質：\\r(一)邏輯思考、分析判...       黃小姐   \n",
       "24   \\n                        1. Linux各平台操作(RHEL、C...  人資處招募任用部   \n",
       "\n",
       "                                URL  \n",
       "93   https://m.104.com.tw/job/6u7bu  \n",
       "9    https://m.104.com.tw/job/7b6ym  \n",
       "22   https://m.104.com.tw/job/6hmzf  \n",
       "91   https://m.104.com.tw/job/6ds2z  \n",
       "88   https://m.104.com.tw/job/6el89  \n",
       "..                              ...  \n",
       "139  https://m.104.com.tw/job/77va2  \n",
       "81   https://m.104.com.tw/job/76sjb  \n",
       "104  https://m.104.com.tw/job/70mim  \n",
       "101  https://m.104.com.tw/job/4u5lb  \n",
       "24   https://m.104.com.tw/job/6x5r9  \n",
       "\n",
       "[139 rows x 11 columns]"
      ],
      "text/html": [
       "<div>\n",
       "<style scoped>\n",
       "    .dataframe tbody tr th:only-of-type {\n",
       "        vertical-align: middle;\n",
       "    }\n",
       "\n",
       "    .dataframe tbody tr th {\n",
       "        vertical-align: top;\n",
       "    }\n",
       "\n",
       "    .dataframe thead th {\n",
       "        text-align: right;\n",
       "    }\n",
       "</style>\n",
       "<table border=\"1\" class=\"dataframe\">\n",
       "  <thead>\n",
       "    <tr style=\"text-align: right;\">\n",
       "      <th></th>\n",
       "      <th>update_time</th>\n",
       "      <th>company</th>\n",
       "      <th>title</th>\n",
       "      <th>work_place</th>\n",
       "      <th>salary</th>\n",
       "      <th>description</th>\n",
       "      <th>job_skill</th>\n",
       "      <th>job_tool</th>\n",
       "      <th>plus</th>\n",
       "      <th>recruiter</th>\n",
       "      <th>URL</th>\n",
       "    </tr>\n",
       "  </thead>\n",
       "  <tbody>\n",
       "    <tr>\n",
       "      <th>93</th>\n",
       "      <td>2021-09-06</td>\n",
       "      <td>慧邦科技股份有限公司</td>\n",
       "      <td>BI 遊戲數據分析工程師(Data Scientist) -視訊面試</td>\n",
       "      <td>台北市中正區</td>\n",
       "      <td>[待遇面議                                         ...</td>\n",
       "      <td>【職務說明】1. 數據後台功能開發。2. 數據資料庫建置與維護。3. 報表排程建置與維護。4...</td>\n",
       "      <td></td>\n",
       "      <td>PHP MySQL jQuery</td>\n",
       "      <td>\\n                        ★因配合防疫措施，目前皆採用視訊面試進行...</td>\n",
       "      <td>余小姐</td>\n",
       "      <td>https://m.104.com.tw/job/6u7bu</td>\n",
       "    </tr>\n",
       "    <tr>\n",
       "      <th>9</th>\n",
       "      <td>2021-09-06</td>\n",
       "      <td>芮陽國際有限公司</td>\n",
       "      <td>數據分析師</td>\n",
       "      <td>台中市西屯區潮洋里市政北二路238號15樓之5</td>\n",
       "      <td>[待遇面議                                         ...</td>\n",
       "      <td>1.具備資料庫結構(MySQL)與擷取資料2.熟悉大數據處理相關技術與統計之資料相關實務經驗...</td>\n",
       "      <td></td>\n",
       "      <td>Python R MySQL Tableau</td>\n",
       "      <td>\\n                        需擅長:數據統計分析/機率計算/資料庫應...</td>\n",
       "      <td>芮陽</td>\n",
       "      <td>https://m.104.com.tw/job/7b6ym</td>\n",
       "    </tr>\n",
       "    <tr>\n",
       "      <th>22</th>\n",
       "      <td>2021-09-06</td>\n",
       "      <td>神揚保險代理人股份有限公司</td>\n",
       "      <td>數據分析人員</td>\n",
       "      <td>新北市新店區中正路531號6樓</td>\n",
       "      <td>[待遇面議                                         ...</td>\n",
       "      <td>1.整理編寫每週業務數據分析報告。2.專案需求分析、數據分析、商業分析和數據採擷模型等。3....</td>\n",
       "      <td></td>\n",
       "      <td>Excel PowerPoint Word 中文打字20~50</td>\n",
       "      <td>\\n                        1.\\t擅溝通、細心、認真負責\\r2.\\...</td>\n",
       "      <td>徐小姐</td>\n",
       "      <td>https://m.104.com.tw/job/6hmzf</td>\n",
       "    </tr>\n",
       "    <tr>\n",
       "      <th>91</th>\n",
       "      <td>2021-09-06</td>\n",
       "      <td>醫療財團法人徐元智先生醫藥基金會亞東紀念醫院</td>\n",
       "      <td>[行政]企劃處/數據分析專員</td>\n",
       "      <td>新北市板橋區南雅南路二段21號                               ...</td>\n",
       "      <td>[月薪 40,000~42,000元]</td>\n",
       "      <td>1.  專案企劃與執行\\r2.  資料庫建立與數據分析\\r3.  其他交辦事項\\r4.  數...</td>\n",
       "      <td>統計軟體操作 文書處理軟體操作</td>\n",
       "      <td>Python R ANSI SQL MS SQL PL/SQL SAS</td>\n",
       "      <td>\\n                        【科系要求】\\r公共衛生、資訊相關、統計...</td>\n",
       "      <td>吳小姐</td>\n",
       "      <td>https://m.104.com.tw/job/6ds2z</td>\n",
       "    </tr>\n",
       "    <tr>\n",
       "      <th>88</th>\n",
       "      <td>2021-09-06</td>\n",
       "      <td>愛達科技有限公司</td>\n",
       "      <td>網路行銷數據分析人員</td>\n",
       "      <td>台北市松山區復興北路231巷19-1號2樓(仁富框廠後棟2樓)               ...</td>\n",
       "      <td>[月薪 33,000~38,000元]</td>\n",
       "      <td>1.官網及各站台momo、雅虎、蝦皮等行銷活动規劃。\\r2.具美感並能與設計溝通版面構成，規...</td>\n",
       "      <td></td>\n",
       "      <td>Google Analytics Google Trend</td>\n",
       "      <td></td>\n",
       "      <td>康先生</td>\n",
       "      <td>https://m.104.com.tw/job/6el89</td>\n",
       "    </tr>\n",
       "    <tr>\n",
       "      <th>...</th>\n",
       "      <td>...</td>\n",
       "      <td>...</td>\n",
       "      <td>...</td>\n",
       "      <td>...</td>\n",
       "      <td>...</td>\n",
       "      <td>...</td>\n",
       "      <td>...</td>\n",
       "      <td>...</td>\n",
       "      <td>...</td>\n",
       "      <td>...</td>\n",
       "      <td>...</td>\n",
       "    </tr>\n",
       "    <tr>\n",
       "      <th>139</th>\n",
       "      <td>2021-07-12</td>\n",
       "      <td>中山醫學大學附設醫院</td>\n",
       "      <td>臨床數據分析師</td>\n",
       "      <td>台中市南區建國北路一段110號                               ...</td>\n",
       "      <td>[月薪 34,000元以上]</td>\n",
       "      <td>1.臨床研究需求與可行性評估2.臨床資料銜接3.臨床資料清潔整理與統計分析4.臨床影像標註5...</td>\n",
       "      <td></td>\n",
       "      <td></td>\n",
       "      <td>\\n                        有資料庫實務經驗擅長統計分析臨床醫護經驗...</td>\n",
       "      <td>黃小姐</td>\n",
       "      <td>https://m.104.com.tw/job/77va2</td>\n",
       "    </tr>\n",
       "    <tr>\n",
       "      <th>81</th>\n",
       "      <td>2021-06-25</td>\n",
       "      <td>DECATHLON法商迪卡儂_台灣迪卡儂有限公司</td>\n",
       "      <td>[電子商務部] 數據分析師 Data Analyst</td>\n",
       "      <td>台中市南屯區大墩南路379號                                ...</td>\n",
       "      <td>[待遇面議                                         ...</td>\n",
       "      <td>1.根據數據發現業務提升點、發揮數據價值導向，深入了解各平台廣告投放規則，給予有效的運營類數...</td>\n",
       "      <td>專案時間╱進度控管 專案溝通╱整合管理 專案管理架構及專案說明 提案與簡報技巧 網路活動規劃...</td>\n",
       "      <td>PHP Python MySQL JavaScript XML jQuery Tableau...</td>\n",
       "      <td>\\n                        -熱愛運動, 經常從事至少一項以上的運動...</td>\n",
       "      <td>Jack</td>\n",
       "      <td>https://m.104.com.tw/job/76sjb</td>\n",
       "    </tr>\n",
       "    <tr>\n",
       "      <th>104</th>\n",
       "      <td>2021-05-05</td>\n",
       "      <td>聯合報股份有限公司</td>\n",
       "      <td>【數據發展部】助理數據分析師</td>\n",
       "      <td>新北市汐止區大同路一段369號</td>\n",
       "      <td>[月薪 34,000~45,000元]</td>\n",
       "      <td>1.\\t擔任精準廣告溝通橋樑，負責監控、優化、管理專案進度。\\r2.\\t定期分析廣告/EDM...</td>\n",
       "      <td></td>\n",
       "      <td>Python Excel SPSS</td>\n",
       "      <td>\\n                        1.\\t有一年以上的廣告代理商經驗佳。\\...</td>\n",
       "      <td>黃小姐</td>\n",
       "      <td>https://m.104.com.tw/job/70mim</td>\n",
       "    </tr>\n",
       "    <tr>\n",
       "      <th>101</th>\n",
       "      <td>2021-05-05</td>\n",
       "      <td>聯合報股份有限公司</td>\n",
       "      <td>【數據發展部】數據分析師</td>\n",
       "      <td>新北市汐止區大同路一段369號</td>\n",
       "      <td>[月薪 38,000~58,000元]</td>\n",
       "      <td>本職務主要是透過各種客戶行為資料，分析客戶行為特徵，找出客戶行為模式，即時及預測客戶的需要，...</td>\n",
       "      <td></td>\n",
       "      <td>PL/SQL Excel</td>\n",
       "      <td>\\n                        一、個人特質：\\r(一)邏輯思考、分析判...</td>\n",
       "      <td>黃小姐</td>\n",
       "      <td>https://m.104.com.tw/job/4u5lb</td>\n",
       "    </tr>\n",
       "    <tr>\n",
       "      <th>24</th>\n",
       "      <td>2021-04-23</td>\n",
       "      <td>華碩電腦股份有限公司</td>\n",
       "      <td>AD30084 數據分析運用工程師</td>\n",
       "      <td>台北市北投區</td>\n",
       "      <td>[月薪 30,000~60,000元]</td>\n",
       "      <td>1. 具有網路基礎架構與網路服務常識2. 具有 Window、Linux基本管理能力3. 具...</td>\n",
       "      <td></td>\n",
       "      <td>hadoop</td>\n",
       "      <td>\\n                        1. Linux各平台操作(RHEL、C...</td>\n",
       "      <td>人資處招募任用部</td>\n",
       "      <td>https://m.104.com.tw/job/6x5r9</td>\n",
       "    </tr>\n",
       "  </tbody>\n",
       "</table>\n",
       "<p>139 rows × 11 columns</p>\n",
       "</div>"
      ]
     },
     "metadata": {},
     "execution_count": 43
    }
   ],
   "metadata": {
    "ExecuteTime": {
     "end_time": "2021-05-27T06:30:34.240642Z",
     "start_time": "2021-05-27T06:30:34.133907Z"
    },
    "scrolled": true
   }
  },
  {
   "cell_type": "code",
   "execution_count": null,
   "source": [],
   "outputs": [],
   "metadata": {
    "ExecuteTime": {
     "end_time": "2021-05-26T09:03:17.435316Z",
     "start_time": "2021-05-26T09:03:17.351414Z"
    },
    "scrolled": true
   }
  },
  {
   "cell_type": "markdown",
   "source": [
    "#### 薪資(salary)\n",
    "將薪資進行統一格式處理\n",
    "- 分成下限 & 上限 => 以利後續查找資料\n",
    "- 年薪改為月薪 => 除以12\n",
    "- 待遇面議改為下限4w、上限面議\n",
    "\n"
   ],
   "metadata": {}
  },
  {
   "cell_type": "code",
   "execution_count": 44,
   "source": [
    "df2[\"salary\"] = df2[\"salary\"].apply(lambda x: re.sub(\" \", \"\", x[0]))"
   ],
   "outputs": [],
   "metadata": {
    "ExecuteTime": {
     "end_time": "2021-05-27T06:30:36.253420Z",
     "start_time": "2021-05-27T06:30:36.234463Z"
    },
    "scrolled": true
   }
  },
  {
   "cell_type": "code",
   "execution_count": 45,
   "source": [
    "df2.loc[(df2[\"salary\"].str.contains(\"待遇面議\")), \"salary\"] = \"40000~0\""
   ],
   "outputs": [],
   "metadata": {
    "ExecuteTime": {
     "end_time": "2021-05-27T06:30:37.116049Z",
     "start_time": "2021-05-27T06:30:37.088123Z"
    }
   }
  },
  {
   "cell_type": "code",
   "execution_count": 46,
   "source": [
    "df2[\"salary\"] = df2[\"salary\"].apply(lambda x: re.sub(\",|[^0-9~]\", \"\", x)) "
   ],
   "outputs": [],
   "metadata": {
    "ExecuteTime": {
     "end_time": "2021-05-27T06:30:38.053821Z",
     "start_time": "2021-05-27T06:30:38.040347Z"
    }
   }
  },
  {
   "cell_type": "code",
   "execution_count": 47,
   "source": [
    "# 有些只寫起薪的會造成error，index用-1避免報錯\n",
    "df2[\"salary_min\"] = df2[\"salary\"].map(lambda x: x.split(\"~\")[0])\n",
    "df2[\"salary_max\"] = df2[\"salary\"].map(lambda x: x.split(\"~\")[-1])"
   ],
   "outputs": [],
   "metadata": {
    "ExecuteTime": {
     "end_time": "2021-05-27T06:30:38.771596Z",
     "start_time": "2021-05-27T06:30:38.740677Z"
    }
   }
  },
  {
   "cell_type": "code",
   "execution_count": 48,
   "source": [
    "# data type轉成 numeric\n",
    "df2[[\"salary_min\", \"salary_max\"]] = df2[[\"salary_min\", \"salary_max\"]].apply(pd.to_numeric)"
   ],
   "outputs": [],
   "metadata": {
    "ExecuteTime": {
     "end_time": "2021-05-27T06:30:40.051167Z",
     "start_time": "2021-05-27T06:30:40.008281Z"
    }
   }
  },
  {
   "cell_type": "code",
   "execution_count": 49,
   "source": [
    "## 年薪改為月薪 => 此處用平均數加上3倍標準差來過濾出極端值後進行處理，應該有更好的方法\n",
    "cond_low = df2[\"salary_min\"].mean() + 3*df2[\"salary_min\"].std()\n",
    "cond_upper = df2[\"salary_max\"].mean() + 3*df2[\"salary_max\"].std()\n",
    "\n",
    "df2[\"salary_min\"] = df2[\"salary_min\"].apply(lambda x: int(x/12) if x > cond_low else x)\n",
    "df2[\"salary_max\"] = df2[\"salary_max\"].apply(lambda x:int(x/12) if x >cond_upper else x)"
   ],
   "outputs": [],
   "metadata": {
    "ExecuteTime": {
     "end_time": "2021-05-27T06:30:40.889668Z",
     "start_time": "2021-05-27T06:30:40.856203Z"
    }
   }
  },
  {
   "cell_type": "code",
   "execution_count": 50,
   "source": [
    "# 只寫起薪或salary_max等於0者，設定為\"面議\"\n",
    "df2.loc[(df2[\"salary_min\"] == df2[\"salary_max\"]) | (df2[\"salary_max\"] == 0), \"salary_max\"] = \"面議\""
   ],
   "outputs": [],
   "metadata": {
    "ExecuteTime": {
     "end_time": "2021-05-27T06:30:41.904403Z",
     "start_time": "2021-05-27T06:30:41.891437Z"
    },
    "code_folding": []
   }
  },
  {
   "cell_type": "code",
   "execution_count": 51,
   "source": [
    "df2"
   ],
   "outputs": [
    {
     "output_type": "execute_result",
     "data": {
      "text/plain": [
       "    update_time                   company                               title  \\\n",
       "93   2021-09-06                慧邦科技股份有限公司  BI 遊戲數據分析工程師(Data Scientist) -視訊面試   \n",
       "9    2021-09-06                  芮陽國際有限公司                               數據分析師   \n",
       "22   2021-09-06             神揚保險代理人股份有限公司                              數據分析人員   \n",
       "91   2021-09-06    醫療財團法人徐元智先生醫藥基金會亞東紀念醫院                      [行政]企劃處/數據分析專員   \n",
       "88   2021-09-06                  愛達科技有限公司                          網路行銷數據分析人員   \n",
       "..          ...                       ...                                 ...   \n",
       "139  2021-07-12                中山醫學大學附設醫院                             臨床數據分析師   \n",
       "81   2021-06-25  DECATHLON法商迪卡儂_台灣迪卡儂有限公司          [電子商務部] 數據分析師 Data Analyst   \n",
       "104  2021-05-05                 聯合報股份有限公司                      【數據發展部】助理數據分析師   \n",
       "101  2021-05-05                 聯合報股份有限公司                        【數據發展部】數據分析師   \n",
       "24   2021-04-23                華碩電腦股份有限公司                   AD30084 數據分析運用工程師   \n",
       "\n",
       "                                            work_place       salary  \\\n",
       "93                                              台北市中正區      40000~0   \n",
       "9                              台中市西屯區潮洋里市政北二路238號15樓之5      40000~0   \n",
       "22                                     新北市新店區中正路531號6樓      40000~0   \n",
       "91   新北市板橋區南雅南路二段21號                               ...  40000~42000   \n",
       "88   台北市松山區復興北路231巷19-1號2樓(仁富框廠後棟2樓)               ...  33000~38000   \n",
       "..                                                 ...          ...   \n",
       "139  台中市南區建國北路一段110號                               ...        34000   \n",
       "81   台中市南屯區大墩南路379號                                ...      40000~0   \n",
       "104                                    新北市汐止區大同路一段369號  34000~45000   \n",
       "101                                    新北市汐止區大同路一段369號  38000~58000   \n",
       "24                                              台北市北投區  30000~60000   \n",
       "\n",
       "                                           description  \\\n",
       "93   【職務說明】1. 數據後台功能開發。2. 數據資料庫建置與維護。3. 報表排程建置與維護。4...   \n",
       "9    1.具備資料庫結構(MySQL)與擷取資料2.熟悉大數據處理相關技術與統計之資料相關實務經驗...   \n",
       "22   1.整理編寫每週業務數據分析報告。2.專案需求分析、數據分析、商業分析和數據採擷模型等。3....   \n",
       "91   1.  專案企劃與執行\\r2.  資料庫建立與數據分析\\r3.  其他交辦事項\\r4.  數...   \n",
       "88   1.官網及各站台momo、雅虎、蝦皮等行銷活动規劃。\\r2.具美感並能與設計溝通版面構成，規...   \n",
       "..                                                 ...   \n",
       "139  1.臨床研究需求與可行性評估2.臨床資料銜接3.臨床資料清潔整理與統計分析4.臨床影像標註5...   \n",
       "81   1.根據數據發現業務提升點、發揮數據價值導向，深入了解各平台廣告投放規則，給予有效的運營類數...   \n",
       "104  1.\\t擔任精準廣告溝通橋樑，負責監控、優化、管理專案進度。\\r2.\\t定期分析廣告/EDM...   \n",
       "101  本職務主要是透過各種客戶行為資料，分析客戶行為特徵，找出客戶行為模式，即時及預測客戶的需要，...   \n",
       "24   1. 具有網路基礎架構與網路服務常識2. 具有 Window、Linux基本管理能力3. 具...   \n",
       "\n",
       "                                             job_skill  \\\n",
       "93                                                       \n",
       "9                                                        \n",
       "22                                                       \n",
       "91                                     統計軟體操作 文書處理軟體操作   \n",
       "88                                                       \n",
       "..                                                 ...   \n",
       "139                                                      \n",
       "81   專案時間╱進度控管 專案溝通╱整合管理 專案管理架構及專案說明 提案與簡報技巧 網路活動規劃...   \n",
       "104                                                      \n",
       "101                                                      \n",
       "24                                                       \n",
       "\n",
       "                                              job_tool  \\\n",
       "93                                    PHP MySQL jQuery   \n",
       "9                               Python R MySQL Tableau   \n",
       "22                     Excel PowerPoint Word 中文打字20~50   \n",
       "91                 Python R ANSI SQL MS SQL PL/SQL SAS   \n",
       "88                       Google Analytics Google Trend   \n",
       "..                                                 ...   \n",
       "139                                                      \n",
       "81   PHP Python MySQL JavaScript XML jQuery Tableau...   \n",
       "104                                  Python Excel SPSS   \n",
       "101                                       PL/SQL Excel   \n",
       "24                                              hadoop   \n",
       "\n",
       "                                                  plus recruiter  \\\n",
       "93   \\n                        ★因配合防疫措施，目前皆採用視訊面試進行...       余小姐   \n",
       "9    \\n                        需擅長:數據統計分析/機率計算/資料庫應...        芮陽   \n",
       "22   \\n                        1.\\t擅溝通、細心、認真負責\\r2.\\...       徐小姐   \n",
       "91   \\n                        【科系要求】\\r公共衛生、資訊相關、統計...       吳小姐   \n",
       "88                                                           康先生   \n",
       "..                                                 ...       ...   \n",
       "139  \\n                        有資料庫實務經驗擅長統計分析臨床醫護經驗...       黃小姐   \n",
       "81   \\n                        -熱愛運動, 經常從事至少一項以上的運動...      Jack   \n",
       "104  \\n                        1.\\t有一年以上的廣告代理商經驗佳。\\...       黃小姐   \n",
       "101  \\n                        一、個人特質：\\r(一)邏輯思考、分析判...       黃小姐   \n",
       "24   \\n                        1. Linux各平台操作(RHEL、C...  人資處招募任用部   \n",
       "\n",
       "                                URL  salary_min salary_max  \n",
       "93   https://m.104.com.tw/job/6u7bu       40000         面議  \n",
       "9    https://m.104.com.tw/job/7b6ym       40000         面議  \n",
       "22   https://m.104.com.tw/job/6hmzf       40000         面議  \n",
       "91   https://m.104.com.tw/job/6ds2z       40000      42000  \n",
       "88   https://m.104.com.tw/job/6el89       33000      38000  \n",
       "..                              ...         ...        ...  \n",
       "139  https://m.104.com.tw/job/77va2       34000         面議  \n",
       "81   https://m.104.com.tw/job/76sjb       40000         面議  \n",
       "104  https://m.104.com.tw/job/70mim       34000      45000  \n",
       "101  https://m.104.com.tw/job/4u5lb       38000      58000  \n",
       "24   https://m.104.com.tw/job/6x5r9       30000      60000  \n",
       "\n",
       "[139 rows x 13 columns]"
      ],
      "text/html": [
       "<div>\n",
       "<style scoped>\n",
       "    .dataframe tbody tr th:only-of-type {\n",
       "        vertical-align: middle;\n",
       "    }\n",
       "\n",
       "    .dataframe tbody tr th {\n",
       "        vertical-align: top;\n",
       "    }\n",
       "\n",
       "    .dataframe thead th {\n",
       "        text-align: right;\n",
       "    }\n",
       "</style>\n",
       "<table border=\"1\" class=\"dataframe\">\n",
       "  <thead>\n",
       "    <tr style=\"text-align: right;\">\n",
       "      <th></th>\n",
       "      <th>update_time</th>\n",
       "      <th>company</th>\n",
       "      <th>title</th>\n",
       "      <th>work_place</th>\n",
       "      <th>salary</th>\n",
       "      <th>description</th>\n",
       "      <th>job_skill</th>\n",
       "      <th>job_tool</th>\n",
       "      <th>plus</th>\n",
       "      <th>recruiter</th>\n",
       "      <th>URL</th>\n",
       "      <th>salary_min</th>\n",
       "      <th>salary_max</th>\n",
       "    </tr>\n",
       "  </thead>\n",
       "  <tbody>\n",
       "    <tr>\n",
       "      <th>93</th>\n",
       "      <td>2021-09-06</td>\n",
       "      <td>慧邦科技股份有限公司</td>\n",
       "      <td>BI 遊戲數據分析工程師(Data Scientist) -視訊面試</td>\n",
       "      <td>台北市中正區</td>\n",
       "      <td>40000~0</td>\n",
       "      <td>【職務說明】1. 數據後台功能開發。2. 數據資料庫建置與維護。3. 報表排程建置與維護。4...</td>\n",
       "      <td></td>\n",
       "      <td>PHP MySQL jQuery</td>\n",
       "      <td>\\n                        ★因配合防疫措施，目前皆採用視訊面試進行...</td>\n",
       "      <td>余小姐</td>\n",
       "      <td>https://m.104.com.tw/job/6u7bu</td>\n",
       "      <td>40000</td>\n",
       "      <td>面議</td>\n",
       "    </tr>\n",
       "    <tr>\n",
       "      <th>9</th>\n",
       "      <td>2021-09-06</td>\n",
       "      <td>芮陽國際有限公司</td>\n",
       "      <td>數據分析師</td>\n",
       "      <td>台中市西屯區潮洋里市政北二路238號15樓之5</td>\n",
       "      <td>40000~0</td>\n",
       "      <td>1.具備資料庫結構(MySQL)與擷取資料2.熟悉大數據處理相關技術與統計之資料相關實務經驗...</td>\n",
       "      <td></td>\n",
       "      <td>Python R MySQL Tableau</td>\n",
       "      <td>\\n                        需擅長:數據統計分析/機率計算/資料庫應...</td>\n",
       "      <td>芮陽</td>\n",
       "      <td>https://m.104.com.tw/job/7b6ym</td>\n",
       "      <td>40000</td>\n",
       "      <td>面議</td>\n",
       "    </tr>\n",
       "    <tr>\n",
       "      <th>22</th>\n",
       "      <td>2021-09-06</td>\n",
       "      <td>神揚保險代理人股份有限公司</td>\n",
       "      <td>數據分析人員</td>\n",
       "      <td>新北市新店區中正路531號6樓</td>\n",
       "      <td>40000~0</td>\n",
       "      <td>1.整理編寫每週業務數據分析報告。2.專案需求分析、數據分析、商業分析和數據採擷模型等。3....</td>\n",
       "      <td></td>\n",
       "      <td>Excel PowerPoint Word 中文打字20~50</td>\n",
       "      <td>\\n                        1.\\t擅溝通、細心、認真負責\\r2.\\...</td>\n",
       "      <td>徐小姐</td>\n",
       "      <td>https://m.104.com.tw/job/6hmzf</td>\n",
       "      <td>40000</td>\n",
       "      <td>面議</td>\n",
       "    </tr>\n",
       "    <tr>\n",
       "      <th>91</th>\n",
       "      <td>2021-09-06</td>\n",
       "      <td>醫療財團法人徐元智先生醫藥基金會亞東紀念醫院</td>\n",
       "      <td>[行政]企劃處/數據分析專員</td>\n",
       "      <td>新北市板橋區南雅南路二段21號                               ...</td>\n",
       "      <td>40000~42000</td>\n",
       "      <td>1.  專案企劃與執行\\r2.  資料庫建立與數據分析\\r3.  其他交辦事項\\r4.  數...</td>\n",
       "      <td>統計軟體操作 文書處理軟體操作</td>\n",
       "      <td>Python R ANSI SQL MS SQL PL/SQL SAS</td>\n",
       "      <td>\\n                        【科系要求】\\r公共衛生、資訊相關、統計...</td>\n",
       "      <td>吳小姐</td>\n",
       "      <td>https://m.104.com.tw/job/6ds2z</td>\n",
       "      <td>40000</td>\n",
       "      <td>42000</td>\n",
       "    </tr>\n",
       "    <tr>\n",
       "      <th>88</th>\n",
       "      <td>2021-09-06</td>\n",
       "      <td>愛達科技有限公司</td>\n",
       "      <td>網路行銷數據分析人員</td>\n",
       "      <td>台北市松山區復興北路231巷19-1號2樓(仁富框廠後棟2樓)               ...</td>\n",
       "      <td>33000~38000</td>\n",
       "      <td>1.官網及各站台momo、雅虎、蝦皮等行銷活动規劃。\\r2.具美感並能與設計溝通版面構成，規...</td>\n",
       "      <td></td>\n",
       "      <td>Google Analytics Google Trend</td>\n",
       "      <td></td>\n",
       "      <td>康先生</td>\n",
       "      <td>https://m.104.com.tw/job/6el89</td>\n",
       "      <td>33000</td>\n",
       "      <td>38000</td>\n",
       "    </tr>\n",
       "    <tr>\n",
       "      <th>...</th>\n",
       "      <td>...</td>\n",
       "      <td>...</td>\n",
       "      <td>...</td>\n",
       "      <td>...</td>\n",
       "      <td>...</td>\n",
       "      <td>...</td>\n",
       "      <td>...</td>\n",
       "      <td>...</td>\n",
       "      <td>...</td>\n",
       "      <td>...</td>\n",
       "      <td>...</td>\n",
       "      <td>...</td>\n",
       "      <td>...</td>\n",
       "    </tr>\n",
       "    <tr>\n",
       "      <th>139</th>\n",
       "      <td>2021-07-12</td>\n",
       "      <td>中山醫學大學附設醫院</td>\n",
       "      <td>臨床數據分析師</td>\n",
       "      <td>台中市南區建國北路一段110號                               ...</td>\n",
       "      <td>34000</td>\n",
       "      <td>1.臨床研究需求與可行性評估2.臨床資料銜接3.臨床資料清潔整理與統計分析4.臨床影像標註5...</td>\n",
       "      <td></td>\n",
       "      <td></td>\n",
       "      <td>\\n                        有資料庫實務經驗擅長統計分析臨床醫護經驗...</td>\n",
       "      <td>黃小姐</td>\n",
       "      <td>https://m.104.com.tw/job/77va2</td>\n",
       "      <td>34000</td>\n",
       "      <td>面議</td>\n",
       "    </tr>\n",
       "    <tr>\n",
       "      <th>81</th>\n",
       "      <td>2021-06-25</td>\n",
       "      <td>DECATHLON法商迪卡儂_台灣迪卡儂有限公司</td>\n",
       "      <td>[電子商務部] 數據分析師 Data Analyst</td>\n",
       "      <td>台中市南屯區大墩南路379號                                ...</td>\n",
       "      <td>40000~0</td>\n",
       "      <td>1.根據數據發現業務提升點、發揮數據價值導向，深入了解各平台廣告投放規則，給予有效的運營類數...</td>\n",
       "      <td>專案時間╱進度控管 專案溝通╱整合管理 專案管理架構及專案說明 提案與簡報技巧 網路活動規劃...</td>\n",
       "      <td>PHP Python MySQL JavaScript XML jQuery Tableau...</td>\n",
       "      <td>\\n                        -熱愛運動, 經常從事至少一項以上的運動...</td>\n",
       "      <td>Jack</td>\n",
       "      <td>https://m.104.com.tw/job/76sjb</td>\n",
       "      <td>40000</td>\n",
       "      <td>面議</td>\n",
       "    </tr>\n",
       "    <tr>\n",
       "      <th>104</th>\n",
       "      <td>2021-05-05</td>\n",
       "      <td>聯合報股份有限公司</td>\n",
       "      <td>【數據發展部】助理數據分析師</td>\n",
       "      <td>新北市汐止區大同路一段369號</td>\n",
       "      <td>34000~45000</td>\n",
       "      <td>1.\\t擔任精準廣告溝通橋樑，負責監控、優化、管理專案進度。\\r2.\\t定期分析廣告/EDM...</td>\n",
       "      <td></td>\n",
       "      <td>Python Excel SPSS</td>\n",
       "      <td>\\n                        1.\\t有一年以上的廣告代理商經驗佳。\\...</td>\n",
       "      <td>黃小姐</td>\n",
       "      <td>https://m.104.com.tw/job/70mim</td>\n",
       "      <td>34000</td>\n",
       "      <td>45000</td>\n",
       "    </tr>\n",
       "    <tr>\n",
       "      <th>101</th>\n",
       "      <td>2021-05-05</td>\n",
       "      <td>聯合報股份有限公司</td>\n",
       "      <td>【數據發展部】數據分析師</td>\n",
       "      <td>新北市汐止區大同路一段369號</td>\n",
       "      <td>38000~58000</td>\n",
       "      <td>本職務主要是透過各種客戶行為資料，分析客戶行為特徵，找出客戶行為模式，即時及預測客戶的需要，...</td>\n",
       "      <td></td>\n",
       "      <td>PL/SQL Excel</td>\n",
       "      <td>\\n                        一、個人特質：\\r(一)邏輯思考、分析判...</td>\n",
       "      <td>黃小姐</td>\n",
       "      <td>https://m.104.com.tw/job/4u5lb</td>\n",
       "      <td>38000</td>\n",
       "      <td>58000</td>\n",
       "    </tr>\n",
       "    <tr>\n",
       "      <th>24</th>\n",
       "      <td>2021-04-23</td>\n",
       "      <td>華碩電腦股份有限公司</td>\n",
       "      <td>AD30084 數據分析運用工程師</td>\n",
       "      <td>台北市北投區</td>\n",
       "      <td>30000~60000</td>\n",
       "      <td>1. 具有網路基礎架構與網路服務常識2. 具有 Window、Linux基本管理能力3. 具...</td>\n",
       "      <td></td>\n",
       "      <td>hadoop</td>\n",
       "      <td>\\n                        1. Linux各平台操作(RHEL、C...</td>\n",
       "      <td>人資處招募任用部</td>\n",
       "      <td>https://m.104.com.tw/job/6x5r9</td>\n",
       "      <td>30000</td>\n",
       "      <td>60000</td>\n",
       "    </tr>\n",
       "  </tbody>\n",
       "</table>\n",
       "<p>139 rows × 13 columns</p>\n",
       "</div>"
      ]
     },
     "metadata": {},
     "execution_count": 51
    }
   ],
   "metadata": {
    "ExecuteTime": {
     "end_time": "2021-05-27T06:30:42.729751Z",
     "start_time": "2021-05-27T06:30:42.691208Z"
    },
    "scrolled": true
   }
  },
  {
   "cell_type": "code",
   "execution_count": null,
   "source": [],
   "outputs": [],
   "metadata": {
    "ExecuteTime": {
     "end_time": "2021-05-26T09:36:17.310946Z",
     "start_time": "2021-05-26T09:36:17.279123Z"
    }
   }
  },
  {
   "cell_type": "markdown",
   "source": [
    "#### 地區\n",
    "1. 去除所有空格\n",
    "2. 從work_place中分成出area"
   ],
   "metadata": {}
  },
  {
   "cell_type": "code",
   "execution_count": 52,
   "source": [
    "df2[\"work_place\"] = df2[\"work_place\"].apply(lambda x: re.sub(\" \", \"\", x))"
   ],
   "outputs": [],
   "metadata": {
    "ExecuteTime": {
     "end_time": "2021-05-27T06:30:44.428835Z",
     "start_time": "2021-05-27T06:30:44.422851Z"
    }
   }
  },
  {
   "cell_type": "code",
   "execution_count": 53,
   "source": [
    "df2[\"area\"] = df2[\"work_place\"].str.strip().str[:3]"
   ],
   "outputs": [],
   "metadata": {
    "ExecuteTime": {
     "end_time": "2021-05-27T06:30:45.227412Z",
     "start_time": "2021-05-27T06:30:45.209461Z"
    }
   }
  },
  {
   "cell_type": "code",
   "execution_count": 54,
   "source": [
    "df2[\"work_place\"] = df2[\"work_place\"].str.strip().str[3:]"
   ],
   "outputs": [],
   "metadata": {
    "ExecuteTime": {
     "end_time": "2021-05-27T06:30:46.086717Z",
     "start_time": "2021-05-27T06:30:46.071098Z"
    }
   }
  },
  {
   "cell_type": "code",
   "execution_count": null,
   "source": [],
   "outputs": [],
   "metadata": {}
  },
  {
   "cell_type": "markdown",
   "source": [
    "#### 處理job_skill 、 job_tool\n",
    "\n",
    "- 為空值者，設為不拘 \n"
   ],
   "metadata": {}
  },
  {
   "cell_type": "code",
   "execution_count": 55,
   "source": [
    "df2.loc[(df2[\"job_tool\"] == \"\") | (df2[\"job_skill\"] == \"\"), [\"job_skill\", \"job_tool\"]] = \"不拘\""
   ],
   "outputs": [],
   "metadata": {
    "ExecuteTime": {
     "end_time": "2021-05-27T06:30:49.938084Z",
     "start_time": "2021-05-27T06:30:49.909637Z"
    }
   }
  },
  {
   "cell_type": "code",
   "execution_count": null,
   "source": [],
   "outputs": [],
   "metadata": {}
  },
  {
   "cell_type": "markdown",
   "source": [
    "#### 其他條件(plus)、工作內容(description) => 除去任何空白字符\n",
    "- 其他條件(plus)為空白者，設為無"
   ],
   "metadata": {}
  },
  {
   "cell_type": "code",
   "execution_count": 56,
   "source": [
    "df2[\"plus\"] = df2[\"plus\"].apply(lambda x: re.sub(r\"\\s\", \"\", x)) ## r\"\\s\" => r\"\"表示此字串套用re規則，\\s代表匹配任何空白字符"
   ],
   "outputs": [],
   "metadata": {
    "ExecuteTime": {
     "end_time": "2021-05-27T06:30:53.993437Z",
     "start_time": "2021-05-27T06:30:53.971469Z"
    }
   }
  },
  {
   "cell_type": "code",
   "execution_count": 57,
   "source": [
    "df2.loc[(df2[\"plus\"] == \"\"), \"plus\"] = \"無\""
   ],
   "outputs": [],
   "metadata": {
    "ExecuteTime": {
     "end_time": "2021-05-27T06:30:51.032426Z",
     "start_time": "2021-05-27T06:30:51.007496Z"
    },
    "scrolled": true
   }
  },
  {
   "cell_type": "code",
   "execution_count": 58,
   "source": [
    "df2[\"description\"] = df2[\"description\"].apply(lambda x: re.sub(r\"\\s\", \"\", x))"
   ],
   "outputs": [],
   "metadata": {
    "ExecuteTime": {
     "end_time": "2021-05-27T06:30:54.835762Z",
     "start_time": "2021-05-27T06:30:54.818806Z"
    }
   }
  },
  {
   "cell_type": "code",
   "execution_count": 28,
   "source": [
    "df2.head()"
   ],
   "outputs": [
    {
     "output_type": "execute_result",
     "data": {
      "text/plain": [
       "   update_time                 company                               title  \\\n",
       "93  2021-09-06              慧邦科技股份有限公司  BI 遊戲數據分析工程師(Data Scientist) -視訊面試   \n",
       "9   2021-09-06                芮陽國際有限公司                               數據分析師   \n",
       "22  2021-09-06           神揚保險代理人股份有限公司                              數據分析人員   \n",
       "91  2021-09-06  醫療財團法人徐元智先生醫藥基金會亞東紀念醫院                      [行政]企劃處/數據分析專員   \n",
       "88  2021-09-06                愛達科技有限公司                          網路行銷數據分析人員   \n",
       "\n",
       "                                     work_place       salary  \\\n",
       "93                                          中正區      40000~0   \n",
       "9                          西屯區潮洋里市政北二路238號15樓之5      40000~0   \n",
       "22                                 新店區中正路531號6樓      40000~0   \n",
       "91                  板橋區南雅南路二段21號（距捷運亞東醫院站140公尺）  40000~42000   \n",
       "88  松山區復興北路231巷19-1號2樓(仁富框廠後棟2樓)（距捷運中山國中站420公尺）  33000~38000   \n",
       "\n",
       "                                          description        job_skill  \\\n",
       "93  【職務說明】1.數據後台功能開發。2.數據資料庫建置與維護。3.報表排程建置與維護。4.使用...               不拘   \n",
       "9   1.具備資料庫結構(MySQL)與擷取資料2.熟悉大數據處理相關技術與統計之資料相關實務經驗...               不拘   \n",
       "22  1.整理編寫每週業務數據分析報告。2.專案需求分析、數據分析、商業分析和數據採擷模型等。3....               不拘   \n",
       "91            1.專案企劃與執行2.資料庫建立與數據分析3.其他交辦事項4.數據中心儲備人才  統計軟體操作 文書處理軟體操作   \n",
       "88  1.官網及各站台momo、雅虎、蝦皮等行銷活动規劃。2.具美感並能與設計溝通版面構成，規劃廣...               不拘   \n",
       "\n",
       "                               job_tool  \\\n",
       "93                                   不拘   \n",
       "9                                    不拘   \n",
       "22                                   不拘   \n",
       "91  Python R ANSI SQL MS SQL PL/SQL SAS   \n",
       "88                                   不拘   \n",
       "\n",
       "                                                 plus recruiter  \\\n",
       "93                              ★因配合防疫措施，目前皆採用視訊面試進行。       余小姐   \n",
       "9                               需擅長:數據統計分析/機率計算/資料庫應用        芮陽   \n",
       "22  1.擅溝通、細心、認真負責2.數字邏輯佳，具數據分析相關經驗3.具財產和人身保險業務員資格證...       徐小姐   \n",
       "91  【科系要求】公共衛生、資訊相關、統計學、流行病學、醫務管理相關1.國內外碩士，擅長統計分析與...       吳小姐   \n",
       "88                                                  無       康先生   \n",
       "\n",
       "                               URL  salary_min salary_max area  \n",
       "93  https://m.104.com.tw/job/6u7bu       40000         面議  台北市  \n",
       "9   https://m.104.com.tw/job/7b6ym       40000         面議  台中市  \n",
       "22  https://m.104.com.tw/job/6hmzf       40000         面議  新北市  \n",
       "91  https://m.104.com.tw/job/6ds2z       40000      42000  新北市  \n",
       "88  https://m.104.com.tw/job/6el89       33000      38000  台北市  "
      ],
      "text/html": [
       "<div>\n",
       "<style scoped>\n",
       "    .dataframe tbody tr th:only-of-type {\n",
       "        vertical-align: middle;\n",
       "    }\n",
       "\n",
       "    .dataframe tbody tr th {\n",
       "        vertical-align: top;\n",
       "    }\n",
       "\n",
       "    .dataframe thead th {\n",
       "        text-align: right;\n",
       "    }\n",
       "</style>\n",
       "<table border=\"1\" class=\"dataframe\">\n",
       "  <thead>\n",
       "    <tr style=\"text-align: right;\">\n",
       "      <th></th>\n",
       "      <th>update_time</th>\n",
       "      <th>company</th>\n",
       "      <th>title</th>\n",
       "      <th>work_place</th>\n",
       "      <th>salary</th>\n",
       "      <th>description</th>\n",
       "      <th>job_skill</th>\n",
       "      <th>job_tool</th>\n",
       "      <th>plus</th>\n",
       "      <th>recruiter</th>\n",
       "      <th>URL</th>\n",
       "      <th>salary_min</th>\n",
       "      <th>salary_max</th>\n",
       "      <th>area</th>\n",
       "    </tr>\n",
       "  </thead>\n",
       "  <tbody>\n",
       "    <tr>\n",
       "      <th>93</th>\n",
       "      <td>2021-09-06</td>\n",
       "      <td>慧邦科技股份有限公司</td>\n",
       "      <td>BI 遊戲數據分析工程師(Data Scientist) -視訊面試</td>\n",
       "      <td>中正區</td>\n",
       "      <td>40000~0</td>\n",
       "      <td>【職務說明】1.數據後台功能開發。2.數據資料庫建置與維護。3.報表排程建置與維護。4.使用...</td>\n",
       "      <td>不拘</td>\n",
       "      <td>不拘</td>\n",
       "      <td>★因配合防疫措施，目前皆採用視訊面試進行。</td>\n",
       "      <td>余小姐</td>\n",
       "      <td>https://m.104.com.tw/job/6u7bu</td>\n",
       "      <td>40000</td>\n",
       "      <td>面議</td>\n",
       "      <td>台北市</td>\n",
       "    </tr>\n",
       "    <tr>\n",
       "      <th>9</th>\n",
       "      <td>2021-09-06</td>\n",
       "      <td>芮陽國際有限公司</td>\n",
       "      <td>數據分析師</td>\n",
       "      <td>西屯區潮洋里市政北二路238號15樓之5</td>\n",
       "      <td>40000~0</td>\n",
       "      <td>1.具備資料庫結構(MySQL)與擷取資料2.熟悉大數據處理相關技術與統計之資料相關實務經驗...</td>\n",
       "      <td>不拘</td>\n",
       "      <td>不拘</td>\n",
       "      <td>需擅長:數據統計分析/機率計算/資料庫應用</td>\n",
       "      <td>芮陽</td>\n",
       "      <td>https://m.104.com.tw/job/7b6ym</td>\n",
       "      <td>40000</td>\n",
       "      <td>面議</td>\n",
       "      <td>台中市</td>\n",
       "    </tr>\n",
       "    <tr>\n",
       "      <th>22</th>\n",
       "      <td>2021-09-06</td>\n",
       "      <td>神揚保險代理人股份有限公司</td>\n",
       "      <td>數據分析人員</td>\n",
       "      <td>新店區中正路531號6樓</td>\n",
       "      <td>40000~0</td>\n",
       "      <td>1.整理編寫每週業務數據分析報告。2.專案需求分析、數據分析、商業分析和數據採擷模型等。3....</td>\n",
       "      <td>不拘</td>\n",
       "      <td>不拘</td>\n",
       "      <td>1.擅溝通、細心、認真負責2.數字邏輯佳，具數據分析相關經驗3.具財產和人身保險業務員資格證...</td>\n",
       "      <td>徐小姐</td>\n",
       "      <td>https://m.104.com.tw/job/6hmzf</td>\n",
       "      <td>40000</td>\n",
       "      <td>面議</td>\n",
       "      <td>新北市</td>\n",
       "    </tr>\n",
       "    <tr>\n",
       "      <th>91</th>\n",
       "      <td>2021-09-06</td>\n",
       "      <td>醫療財團法人徐元智先生醫藥基金會亞東紀念醫院</td>\n",
       "      <td>[行政]企劃處/數據分析專員</td>\n",
       "      <td>板橋區南雅南路二段21號（距捷運亞東醫院站140公尺）</td>\n",
       "      <td>40000~42000</td>\n",
       "      <td>1.專案企劃與執行2.資料庫建立與數據分析3.其他交辦事項4.數據中心儲備人才</td>\n",
       "      <td>統計軟體操作 文書處理軟體操作</td>\n",
       "      <td>Python R ANSI SQL MS SQL PL/SQL SAS</td>\n",
       "      <td>【科系要求】公共衛生、資訊相關、統計學、流行病學、醫務管理相關1.國內外碩士，擅長統計分析與...</td>\n",
       "      <td>吳小姐</td>\n",
       "      <td>https://m.104.com.tw/job/6ds2z</td>\n",
       "      <td>40000</td>\n",
       "      <td>42000</td>\n",
       "      <td>新北市</td>\n",
       "    </tr>\n",
       "    <tr>\n",
       "      <th>88</th>\n",
       "      <td>2021-09-06</td>\n",
       "      <td>愛達科技有限公司</td>\n",
       "      <td>網路行銷數據分析人員</td>\n",
       "      <td>松山區復興北路231巷19-1號2樓(仁富框廠後棟2樓)（距捷運中山國中站420公尺）</td>\n",
       "      <td>33000~38000</td>\n",
       "      <td>1.官網及各站台momo、雅虎、蝦皮等行銷活动規劃。2.具美感並能與設計溝通版面構成，規劃廣...</td>\n",
       "      <td>不拘</td>\n",
       "      <td>不拘</td>\n",
       "      <td>無</td>\n",
       "      <td>康先生</td>\n",
       "      <td>https://m.104.com.tw/job/6el89</td>\n",
       "      <td>33000</td>\n",
       "      <td>38000</td>\n",
       "      <td>台北市</td>\n",
       "    </tr>\n",
       "  </tbody>\n",
       "</table>\n",
       "</div>"
      ]
     },
     "metadata": {},
     "execution_count": 28
    }
   ],
   "metadata": {
    "ExecuteTime": {
     "end_time": "2021-05-26T15:38:05.744340Z",
     "start_time": "2021-05-26T15:38:05.659453Z"
    },
    "scrolled": true
   }
  },
  {
   "cell_type": "code",
   "execution_count": null,
   "source": [],
   "outputs": [],
   "metadata": {}
  },
  {
   "cell_type": "markdown",
   "source": [
    "#### 重新排序columns\n",
    "\n",
    "- 欄位重新排為以下順序 => 'update_time', 'company', 'title', 'area', 'work_place', 'salary_min', 'salary_max', 'description', 'job_skill', 'job_tool', 'plus', 'recruiter', 'URL'"
   ],
   "metadata": {}
  },
  {
   "cell_type": "code",
   "execution_count": 59,
   "source": [
    "col = list(df2.columns)\n",
    "col"
   ],
   "outputs": [
    {
     "output_type": "execute_result",
     "data": {
      "text/plain": [
       "['update_time',\n",
       " 'company',\n",
       " 'title',\n",
       " 'work_place',\n",
       " 'salary',\n",
       " 'description',\n",
       " 'job_skill',\n",
       " 'job_tool',\n",
       " 'plus',\n",
       " 'recruiter',\n",
       " 'URL',\n",
       " 'salary_min',\n",
       " 'salary_max',\n",
       " 'area']"
      ]
     },
     "metadata": {},
     "execution_count": 59
    }
   ],
   "metadata": {
    "ExecuteTime": {
     "end_time": "2021-05-27T06:30:58.080332Z",
     "start_time": "2021-05-27T06:30:58.059171Z"
    }
   }
  },
  {
   "cell_type": "code",
   "execution_count": 60,
   "source": [
    "df2 = df2[col[:3] + [col[-1]] + [col[3]] + col[-3:-1] + col[5:-3]]"
   ],
   "outputs": [],
   "metadata": {
    "ExecuteTime": {
     "end_time": "2021-05-27T06:46:36.767944Z",
     "start_time": "2021-05-27T06:46:36.747476Z"
    }
   }
  },
  {
   "cell_type": "code",
   "execution_count": 69,
   "source": [
    "# 將URL從手機版轉換為網頁版\n",
    "df2[\"URL\"] = df2[\"URL\"].apply(lambda x: re.sub(\"(m.)\", \"\", x, 1)) # 只取代第一個match的string"
   ],
   "outputs": [
    {
     "output_type": "stream",
     "name": "stderr",
     "text": [
      "<ipython-input-69-c7727df31257>:2: SettingWithCopyWarning: \n",
      "A value is trying to be set on a copy of a slice from a DataFrame.\n",
      "Try using .loc[row_indexer,col_indexer] = value instead\n",
      "\n",
      "See the caveats in the documentation: https://pandas.pydata.org/pandas-docs/stable/user_guide/indexing.html#returning-a-view-versus-a-copy\n",
      "  df2[\"URL\"] = df2[\"URL\"].apply(lambda x: re.sub(\"(m.)\", \"\", x, 1)) # 只取代第一個match的string\n"
     ]
    }
   ],
   "metadata": {
    "ExecuteTime": {
     "end_time": "2021-05-27T06:46:42.591712Z",
     "start_time": "2021-05-27T06:46:42.539795Z"
    },
    "scrolled": true
   }
  },
  {
   "cell_type": "markdown",
   "source": [
    "#### 重設index"
   ],
   "metadata": {}
  },
  {
   "cell_type": "code",
   "execution_count": 70,
   "source": [
    "df2.reset_index(drop=True, inplace=True)"
   ],
   "outputs": [],
   "metadata": {
    "ExecuteTime": {
     "end_time": "2021-05-27T06:46:40.026093Z",
     "start_time": "2021-05-27T06:46:40.016121Z"
    }
   }
  },
  {
   "cell_type": "code",
   "execution_count": 71,
   "source": [
    "df2.head()"
   ],
   "outputs": [
    {
     "output_type": "execute_result",
     "data": {
      "text/plain": [
       "  update_time                 company                               title  \\\n",
       "0  2021-09-06              慧邦科技股份有限公司  BI 遊戲數據分析工程師(Data Scientist) -視訊面試   \n",
       "1  2021-09-06                芮陽國際有限公司                               數據分析師   \n",
       "2  2021-09-06           神揚保險代理人股份有限公司                              數據分析人員   \n",
       "3  2021-09-06  醫療財團法人徐元智先生醫藥基金會亞東紀念醫院                      [行政]企劃處/數據分析專員   \n",
       "4  2021-09-06                愛達科技有限公司                          網路行銷數據分析人員   \n",
       "\n",
       "  area                                   work_place  salary_min salary_max  \\\n",
       "0  台北市                                          中正區       40000         面議   \n",
       "1  台中市                         西屯區潮洋里市政北二路238號15樓之5       40000         面議   \n",
       "2  新北市                                 新店區中正路531號6樓       40000         面議   \n",
       "3  新北市                  板橋區南雅南路二段21號（距捷運亞東醫院站140公尺）       40000      42000   \n",
       "4  台北市  松山區復興北路231巷19-1號2樓(仁富框廠後棟2樓)（距捷運中山國中站420公尺）       33000      38000   \n",
       "\n",
       "                                         description        job_skill  \\\n",
       "0  【職務說明】1.數據後台功能開發。2.數據資料庫建置與維護。3.報表排程建置與維護。4.使用...               不拘   \n",
       "1  1.具備資料庫結構(MySQL)與擷取資料2.熟悉大數據處理相關技術與統計之資料相關實務經驗...               不拘   \n",
       "2  1.整理編寫每週業務數據分析報告。2.專案需求分析、數據分析、商業分析和數據採擷模型等。3....               不拘   \n",
       "3            1.專案企劃與執行2.資料庫建立與數據分析3.其他交辦事項4.數據中心儲備人才  統計軟體操作 文書處理軟體操作   \n",
       "4  1.官網及各站台momo、雅虎、蝦皮等行銷活动規劃。2.具美感並能與設計溝通版面構成，規劃廣...               不拘   \n",
       "\n",
       "                              job_tool  \\\n",
       "0                                   不拘   \n",
       "1                                   不拘   \n",
       "2                                   不拘   \n",
       "3  Python R ANSI SQL MS SQL PL/SQL SAS   \n",
       "4                                   不拘   \n",
       "\n",
       "                                                plus recruiter  \\\n",
       "0                              ★因配合防疫措施，目前皆採用視訊面試進行。       余小姐   \n",
       "1                              需擅長:數據統計分析/機率計算/資料庫應用        芮陽   \n",
       "2  1.擅溝通、細心、認真負責2.數字邏輯佳，具數據分析相關經驗3.具財產和人身保險業務員資格證...       徐小姐   \n",
       "3  【科系要求】公共衛生、資訊相關、統計學、流行病學、醫務管理相關1.國內外碩士，擅長統計分析與...       吳小姐   \n",
       "4                                                  無       康先生   \n",
       "\n",
       "                            URL  \n",
       "0  https://104.com.tw/job/6u7bu  \n",
       "1  https://104.com.tw/job/7b6ym  \n",
       "2  https://104.com.tw/job/6hmzf  \n",
       "3  https://104.com.tw/job/6ds2z  \n",
       "4  https://104.com.tw/job/6el89  "
      ],
      "text/html": [
       "<div>\n",
       "<style scoped>\n",
       "    .dataframe tbody tr th:only-of-type {\n",
       "        vertical-align: middle;\n",
       "    }\n",
       "\n",
       "    .dataframe tbody tr th {\n",
       "        vertical-align: top;\n",
       "    }\n",
       "\n",
       "    .dataframe thead th {\n",
       "        text-align: right;\n",
       "    }\n",
       "</style>\n",
       "<table border=\"1\" class=\"dataframe\">\n",
       "  <thead>\n",
       "    <tr style=\"text-align: right;\">\n",
       "      <th></th>\n",
       "      <th>update_time</th>\n",
       "      <th>company</th>\n",
       "      <th>title</th>\n",
       "      <th>area</th>\n",
       "      <th>work_place</th>\n",
       "      <th>salary_min</th>\n",
       "      <th>salary_max</th>\n",
       "      <th>description</th>\n",
       "      <th>job_skill</th>\n",
       "      <th>job_tool</th>\n",
       "      <th>plus</th>\n",
       "      <th>recruiter</th>\n",
       "      <th>URL</th>\n",
       "    </tr>\n",
       "  </thead>\n",
       "  <tbody>\n",
       "    <tr>\n",
       "      <th>0</th>\n",
       "      <td>2021-09-06</td>\n",
       "      <td>慧邦科技股份有限公司</td>\n",
       "      <td>BI 遊戲數據分析工程師(Data Scientist) -視訊面試</td>\n",
       "      <td>台北市</td>\n",
       "      <td>中正區</td>\n",
       "      <td>40000</td>\n",
       "      <td>面議</td>\n",
       "      <td>【職務說明】1.數據後台功能開發。2.數據資料庫建置與維護。3.報表排程建置與維護。4.使用...</td>\n",
       "      <td>不拘</td>\n",
       "      <td>不拘</td>\n",
       "      <td>★因配合防疫措施，目前皆採用視訊面試進行。</td>\n",
       "      <td>余小姐</td>\n",
       "      <td>https://104.com.tw/job/6u7bu</td>\n",
       "    </tr>\n",
       "    <tr>\n",
       "      <th>1</th>\n",
       "      <td>2021-09-06</td>\n",
       "      <td>芮陽國際有限公司</td>\n",
       "      <td>數據分析師</td>\n",
       "      <td>台中市</td>\n",
       "      <td>西屯區潮洋里市政北二路238號15樓之5</td>\n",
       "      <td>40000</td>\n",
       "      <td>面議</td>\n",
       "      <td>1.具備資料庫結構(MySQL)與擷取資料2.熟悉大數據處理相關技術與統計之資料相關實務經驗...</td>\n",
       "      <td>不拘</td>\n",
       "      <td>不拘</td>\n",
       "      <td>需擅長:數據統計分析/機率計算/資料庫應用</td>\n",
       "      <td>芮陽</td>\n",
       "      <td>https://104.com.tw/job/7b6ym</td>\n",
       "    </tr>\n",
       "    <tr>\n",
       "      <th>2</th>\n",
       "      <td>2021-09-06</td>\n",
       "      <td>神揚保險代理人股份有限公司</td>\n",
       "      <td>數據分析人員</td>\n",
       "      <td>新北市</td>\n",
       "      <td>新店區中正路531號6樓</td>\n",
       "      <td>40000</td>\n",
       "      <td>面議</td>\n",
       "      <td>1.整理編寫每週業務數據分析報告。2.專案需求分析、數據分析、商業分析和數據採擷模型等。3....</td>\n",
       "      <td>不拘</td>\n",
       "      <td>不拘</td>\n",
       "      <td>1.擅溝通、細心、認真負責2.數字邏輯佳，具數據分析相關經驗3.具財產和人身保險業務員資格證...</td>\n",
       "      <td>徐小姐</td>\n",
       "      <td>https://104.com.tw/job/6hmzf</td>\n",
       "    </tr>\n",
       "    <tr>\n",
       "      <th>3</th>\n",
       "      <td>2021-09-06</td>\n",
       "      <td>醫療財團法人徐元智先生醫藥基金會亞東紀念醫院</td>\n",
       "      <td>[行政]企劃處/數據分析專員</td>\n",
       "      <td>新北市</td>\n",
       "      <td>板橋區南雅南路二段21號（距捷運亞東醫院站140公尺）</td>\n",
       "      <td>40000</td>\n",
       "      <td>42000</td>\n",
       "      <td>1.專案企劃與執行2.資料庫建立與數據分析3.其他交辦事項4.數據中心儲備人才</td>\n",
       "      <td>統計軟體操作 文書處理軟體操作</td>\n",
       "      <td>Python R ANSI SQL MS SQL PL/SQL SAS</td>\n",
       "      <td>【科系要求】公共衛生、資訊相關、統計學、流行病學、醫務管理相關1.國內外碩士，擅長統計分析與...</td>\n",
       "      <td>吳小姐</td>\n",
       "      <td>https://104.com.tw/job/6ds2z</td>\n",
       "    </tr>\n",
       "    <tr>\n",
       "      <th>4</th>\n",
       "      <td>2021-09-06</td>\n",
       "      <td>愛達科技有限公司</td>\n",
       "      <td>網路行銷數據分析人員</td>\n",
       "      <td>台北市</td>\n",
       "      <td>松山區復興北路231巷19-1號2樓(仁富框廠後棟2樓)（距捷運中山國中站420公尺）</td>\n",
       "      <td>33000</td>\n",
       "      <td>38000</td>\n",
       "      <td>1.官網及各站台momo、雅虎、蝦皮等行銷活动規劃。2.具美感並能與設計溝通版面構成，規劃廣...</td>\n",
       "      <td>不拘</td>\n",
       "      <td>不拘</td>\n",
       "      <td>無</td>\n",
       "      <td>康先生</td>\n",
       "      <td>https://104.com.tw/job/6el89</td>\n",
       "    </tr>\n",
       "  </tbody>\n",
       "</table>\n",
       "</div>"
      ]
     },
     "metadata": {},
     "execution_count": 71
    }
   ],
   "metadata": {}
  },
  {
   "cell_type": "markdown",
   "source": [
    "#### 存成excel檔"
   ],
   "metadata": {}
  },
  {
   "cell_type": "code",
   "execution_count": 72,
   "source": [
    "df2.to_excel(\"./104_job_bank(data analysis related).xlsx\", index=False)"
   ],
   "outputs": [],
   "metadata": {
    "ExecuteTime": {
     "end_time": "2021-05-27T06:47:02.104876Z",
     "start_time": "2021-05-27T06:47:01.809037Z"
    }
   }
  },
  {
   "cell_type": "code",
   "execution_count": null,
   "source": [],
   "outputs": [],
   "metadata": {
    "ExecuteTime": {
     "end_time": "2021-05-26T15:22:49.711475Z",
     "start_time": "2021-05-26T15:22:49.659216Z"
    }
   }
  }
 ],
 "metadata": {
  "kernelspec": {
   "name": "python3",
   "display_name": "Python 3.8.3 64-bit ('base': conda)"
  },
  "language_info": {
   "codemirror_mode": {
    "name": "ipython",
    "version": 3
   },
   "file_extension": ".py",
   "mimetype": "text/x-python",
   "name": "python",
   "nbconvert_exporter": "python",
   "pygments_lexer": "ipython3",
   "version": "3.8.3"
  },
  "toc": {
   "base_numbering": 1,
   "nav_menu": {},
   "number_sections": true,
   "sideBar": true,
   "skip_h1_title": false,
   "title_cell": "Table of Contents",
   "title_sidebar": "Contents",
   "toc_cell": false,
   "toc_position": {},
   "toc_section_display": true,
   "toc_window_display": true
  },
  "varInspector": {
   "cols": {
    "lenName": 16,
    "lenType": 16,
    "lenVar": 40
   },
   "kernels_config": {
    "python": {
     "delete_cmd_postfix": "",
     "delete_cmd_prefix": "del ",
     "library": "var_list.py",
     "varRefreshCmd": "print(var_dic_list())"
    },
    "r": {
     "delete_cmd_postfix": ") ",
     "delete_cmd_prefix": "rm(",
     "library": "var_list.r",
     "varRefreshCmd": "cat(var_dic_list()) "
    }
   },
   "types_to_exclude": [
    "module",
    "function",
    "builtin_function_or_method",
    "instance",
    "_Feature"
   ],
   "window_display": false
  },
  "interpreter": {
   "hash": "7b4db6f4314de8d4cd797f28a178c3ff3d1b87f4cb8353b93947a436002fe6e1"
  }
 },
 "nbformat": 4,
 "nbformat_minor": 4
}