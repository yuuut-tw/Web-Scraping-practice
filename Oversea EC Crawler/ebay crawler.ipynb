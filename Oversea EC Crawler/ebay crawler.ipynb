{
 "cells": [
  {
   "cell_type": "code",
   "execution_count": 1,
   "source": [
    "import pandas as pd\n",
    "import re\n",
    "import requests\n",
    "from bs4 import BeautifulSoup"
   ],
   "outputs": [],
   "metadata": {}
  },
  {
   "cell_type": "code",
   "execution_count": 8,
   "source": [
    "# ebay website\n",
    "url = \"https://www.ebay.com/b/LED-Light-Bulbs/20706/bn_7115818847\"\n",
    "\n",
    "header = {\"user-agent\":\"Mozilla/5.0 (Macintosh; Intel Mac OS X 10_15_7) AppleWebKit/537.36 (KHTML, like Gecko) Chrome/92.0.4515.159 Safari/537.36\"}\n",
    "\n",
    "ss = requests.session()\n",
    "res = ss.get(url, headers=header)"
   ],
   "outputs": [],
   "metadata": {}
  },
  {
   "cell_type": "code",
   "execution_count": 15,
   "source": [
    "soup = BeautifulSoup(res.text, features='html.parser')"
   ],
   "outputs": [],
   "metadata": {}
  },
  {
   "cell_type": "code",
   "execution_count": 20,
   "source": [
    "product_info = soup.select(\"div[class='s-item__info clearfix']\")\n",
    "len(product_info)"
   ],
   "outputs": [
    {
     "output_type": "execute_result",
     "data": {
      "text/plain": [
       "48"
      ]
     },
     "metadata": {},
     "execution_count": 20
    }
   ],
   "metadata": {}
  },
  {
   "cell_type": "code",
   "execution_count": 21,
   "source": [
    "product_info[0]"
   ],
   "outputs": [
    {
     "output_type": "execute_result",
     "data": {
      "text/plain": [
       "<div class=\"s-item__info clearfix\"><a _sp=\"p2489527.m4335.l8656\" class=\"s-item__link\" data-track='{\"eventFamily\":\"LST\",\"eventAction\":\"ACTN\",\"actionKind\":\"NAVSRC\",\"operationId\":\"2489527\",\"flushImmediately\":false,\"eventProperty\":{\"parentrq\":\"a4d92b6717b0ad98ad41d1c4ffed9f14\",\"pageci\":\"3e421575-9f9d-4c4f-8a72-081ce2a37f22\",\"checksum\":\"313276853116459647ba56d0437eacfe16da7ae762f8\",\"enc\":\"AQAGAAACkPYe5NmHp+2JMhMi7yxGiTJkPrKr5t53CooMSQt2orsSWe8vpvBvNkEhSEKGo8VNyrwTmJmh2lnoExKt3T3LDzOBR+1WQttkYhiurjEcs9708MuPlA/wuuXFSuQM/HcrFKGuR7s1mV4EJsKMCHShEXzhyVCiTXHioGtBfD6Bz1tYmxVqhIuyr/x/2hLGRDKLQxCZyaBpPdrhdEJRf3NIW5SLOASmnP2K3+x26r8/kZdUwFC3Om0J8maJwXgqvO9Pz4yhnsUZAu4xEiHV4jkifX6xp1LoWZJS9JL3lBxeJq15xjg25yyULTYWHDc59oEsV79+8/KrEOfhv9mTeGRxwlUMoi20C9Aumw0qIHNqu/gcZlgsg69Qv9LGsCns0BbbcSR2itNJmrNI5+kqJgP1CZUHgsG84YFpTNe79mFbtdkx7AueOvyu9WXgXNuG7NrYwxJh5PMMiOGiwDwVWikdsldv+BcpzZzxQSfSwA9LuilOEIDmMRN2k4S1ui+g5HAvWiDusscPW8ngMUHSdrNoy05LbKywqXcQp0/v2VtZmqZP1MHjy8lFVt4hV8zgxBSjYXlvR+D9bxYZiLYr/U3/FZr699x5HOFRLIm7fjCB/+CYSIX7EQok+5mK3pz0lKW52SPnnEQyFEe8oDUIg7kiPa36sWrQPg7D0zS9XqqwmXyAOEQdZauFavu2fNTt22nx4TtqJ6i2ETyxvXQ9ds5Esnvxj+TFrzlK760dvk6tRfQQd1+u94X07TbmgSdp+ulo6l1SBUP1S8BKEe785VJJsMYz8ja9vaQPSObM6tg4AJAnIq7v60u9AvCxDMeDkNFPrBX08t0hiK5QeIan0FTYVWb6J4oCJ5lJc85WrSZDAAcW\",\"moduledtl\":\"mi:4335|iid:1|li:8656|luid:1|scen:Listings\"}}' href=\"https://www.ebay.com/itm/313276853116?_trkparms=ispr%3D1&amp;hash=item48f0c16b7c:g:4T0AAOSwf4BfmX0U&amp;amdata=enc%3AAQAGAAACkPYe5NmHp%252B2JMhMi7yxGiTJkPrKr5t53CooMSQt2orsSWe8vpvBvNkEhSEKGo8VNyrwTmJmh2lnoExKt3T3LDzOBR%252B1WQttkYhiurjEcs9708MuPlA%252FwuuXFSuQM%252FHcrFKGuR7s1mV4EJsKMCHShEXzhyVCiTXHioGtBfD6Bz1tYmxVqhIuyr%252Fx%252F2hLGRDKLQxCZyaBpPdrhdEJRf3NIW5SLOASmnP2K3%252Bx26r8%252FkZdUwFC3Om0J8maJwXgqvO9Pz4yhnsUZAu4xEiHV4jkifX6xp1LoWZJS9JL3lBxeJq15xjg25yyULTYWHDc59oEsV79%252B8%252FKrEOfhv9mTeGRxwlUMoi20C9Aumw0qIHNqu%252FgcZlgsg69Qv9LGsCns0BbbcSR2itNJmrNI5%252BkqJgP1CZUHgsG84YFpTNe79mFbtdkx7AueOvyu9WXgXNuG7NrYwxJh5PMMiOGiwDwVWikdsldv%252BBcpzZzxQSfSwA9LuilOEIDmMRN2k4S1ui%252Bg5HAvWiDusscPW8ngMUHSdrNoy05LbKywqXcQp0%252Fv2VtZmqZP1MHjy8lFVt4hV8zgxBSjYXlvR%252BD9bxYZiLYr%252FU3%252FFZr699x5HOFRLIm7fjCB%252F%252BCYSIX7EQok%252B5mK3pz0lKW52SPnnEQyFEe8oDUIg7kiPa36sWrQPg7D0zS9XqqwmXyAOEQdZauFavu2fNTt22nx4TtqJ6i2ETyxvXQ9ds5Esnvxj%252BTFrzlK760dvk6tRfQQd1%252Bu94X07TbmgSdp%252Bulo6l1SBUP1S8BKEe785VJJsMYz8ja9vaQPSObM6tg4AJAnIq7v60u9AvCxDMeDkNFPrBX08t0hiK5QeIan0FTYVWb6J4oCJ5lJc85WrSZDAAcW%7Campid%3APL_CLK%7Cclp%3A2499334&amp;var=612141870401\"><div><div class=\"s-item__title-tag\">SPONSORED</div></div><h3 class=\"s-item__title s-item__title--has-tags\">LumiLife MR16 12V LED Light Bulbs Dimmable Spotlights 4.5W 4.8W 6.5W Multipacks</h3></a><div class=\"s-item__details clearfix\"><div class=\"s-item__detail s-item__detail--primary\"><span class=\"s-item__price\"><span class=\"ITALIC\">NT$ 267</span><span class=\"DEFAULT ITALIC\"> to </span><span class=\"ITALIC\">NT$ 1,144</span></span></div><div class=\"s-item__detail s-item__detail--primary\"><span class=\"s-item__shipping s-item__logisticsCost\">NT$ 906 shipping</span></div><div class=\"s-item__detail s-item__detail--primary\"><span aria-label=\"\" class=\"s-item__hotness s-item__itemHotness\"><span class=\"NEGATIVE\">56 sold</span></span></div></div></div>"
      ]
     },
     "metadata": {},
     "execution_count": 21
    }
   ],
   "metadata": {}
  },
  {
   "cell_type": "code",
   "execution_count": 37,
   "source": [
    "# 產品名稱、價錢、運費\n",
    "title = product_info[0].select(\"h3\")[0].text\n",
    "price = product_info[0].select(\"span[class='s-item__price']\")\n",
    "shipping_fee = product_info[0].select(\"span[class='s-item__shipping s-item__logisticsCost']\") "
   ],
   "outputs": [],
   "metadata": {}
  },
  {
   "cell_type": "code",
   "execution_count": 34,
   "source": [
    "price[0].text"
   ],
   "outputs": [
    {
     "output_type": "execute_result",
     "data": {
      "text/plain": [
       "'NT$ 267 to NT$ 1,144'"
      ]
     },
     "metadata": {},
     "execution_count": 34
    }
   ],
   "metadata": {}
  },
  {
   "cell_type": "code",
   "execution_count": 39,
   "source": [
    "shipping_fee[0].text"
   ],
   "outputs": [
    {
     "output_type": "execute_result",
     "data": {
      "text/plain": [
       "'NT$ 906 shipping'"
      ]
     },
     "metadata": {},
     "execution_count": 39
    }
   ],
   "metadata": {}
  },
  {
   "cell_type": "code",
   "execution_count": null,
   "source": [],
   "outputs": [],
   "metadata": {}
  }
 ],
 "metadata": {
  "orig_nbformat": 4,
  "language_info": {
   "name": "python",
   "version": "3.8.3",
   "mimetype": "text/x-python",
   "codemirror_mode": {
    "name": "ipython",
    "version": 3
   },
   "pygments_lexer": "ipython3",
   "nbconvert_exporter": "python",
   "file_extension": ".py"
  },
  "kernelspec": {
   "name": "python3",
   "display_name": "Python 3.8.3 64-bit ('base': conda)"
  },
  "interpreter": {
   "hash": "7b4db6f4314de8d4cd797f28a178c3ff3d1b87f4cb8353b93947a436002fe6e1"
  }
 },
 "nbformat": 4,
 "nbformat_minor": 2
}