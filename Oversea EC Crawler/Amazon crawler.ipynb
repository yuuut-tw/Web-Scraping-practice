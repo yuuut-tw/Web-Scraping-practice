{
 "cells": [
  {
   "cell_type": "code",
   "execution_count": 2,
   "source": [
    "import pandas as pd\n",
    "import re\n",
    "import requests\n",
    "from random import randint\n",
    "from bs4 import BeautifulSoup\n",
    "from selenium import webdriver\n",
    "from selenium.webdriver.support.ui import Select\n",
    "from fake_useragent import UserAgent\n",
    "import time"
   ],
   "outputs": [],
   "metadata": {}
  },
  {
   "cell_type": "markdown",
   "source": [
    "### 分解各個環節程式碼"
   ],
   "metadata": {}
  },
  {
   "cell_type": "code",
   "execution_count": 3,
   "source": [
    "# amazon website\n",
    "product = \"kitty\"\n",
    "url = \"https://www.amazon.com/s?k={}&ref=nb_sb_noss\".format(product)\n",
    "\n",
    "# 加入headless模式 => 注意：使用時google版本可能不一樣\n",
    "options = webdriver.ChromeOptions()\n",
    "#options.add_argument(\"--headless\")\n",
    "# 設定fake_agent\n",
    "ua = UserAgent()\n",
    "options.add_argument(ua.random)\n",
    "\n",
    "# 將參數帶入\n",
    "driver = webdriver.Chrome(options=options, executable_path=\"./chromedriver\")\n",
    "driver.get(url)\n",
    "time.sleep(2)\n",
    "\n",
    "# 取得頁面的html\n",
    "soup = BeautifulSoup(driver.page_source, \"html.parser\")\n",
    "\n",
    "# 關閉頁面\n",
    "#driver.close()"
   ],
   "outputs": [],
   "metadata": {}
  },
  {
   "cell_type": "code",
   "execution_count": 4,
   "source": [
    "# 查看總共有幾個\n",
    "product_info = soup.select(\"div[class='a-section a-spacing-none']\")\n",
    "len(product_info)"
   ],
   "outputs": [
    {
     "output_type": "execute_result",
     "data": {
      "text/plain": [
       "68"
      ]
     },
     "metadata": {},
     "execution_count": 4
    }
   ],
   "metadata": {}
  },
  {
   "cell_type": "code",
   "execution_count": 5,
   "source": [
    "product_info[0]"
   ],
   "outputs": [
    {
     "output_type": "execute_result",
     "data": {
      "text/plain": [
       "<div class=\"a-section a-spacing-none\"><div class=\"a-section a-spacing-none a-spacing-top-small\"><div class=\"a-row a-spacing-micro\"><span class=\"a-declarative\" data-a-popover='{\"closeButton\":\"true\",\"dataStrategy\":\"preload\",\"name\":\"sp-info-popover-mobile\"}' data-action=\"a-popover\"><span class=\"s-sponsored-label-text\"><span class=\"a-color-secondary\">贊助</span></span></span><div class=\"a-popover-preload\" id=\"a-popover-sp-info-popover-mobile\"><span class=\"a-color-secondary\">贊助</span></div></div><h2 class=\"a-size-mini a-spacing-none a-color-base s-line-clamp-4\"><a class=\"a-link-normal a-text-normal\" href=\"/-/zh_TW/gp/slredirect/picassoRedirect.html/ref=pa_sp_atf_aps_sr_pg1_1?ie=UTF8&amp;adId=A09086251N3SD36GS2TZF&amp;url=%2Fdp%2FB096DYXVM5%2Fref%3Dsr_1_1_sspa%3Fdchild%3D1%26keywords%3Dkitty%26qid%3D1630662166%26sr%3D8-1-spons%26psc%3D1&amp;qualifier=1630662166&amp;id=1630205119401451&amp;widgetName=sp_atf\"><span class=\"a-size-base-plus a-color-base a-text-normal\">Streyant Mixed Cat Litter, Quick Clumping, Deodorize, Flushable, Dust Free &amp; Unscented for Kitty 6LBs / Pack</span> </a> </h2></div><div class=\"a-section a-spacing-none a-spacing-top-small\"><div class=\"a-row a-size-base a-color-base\"><a class=\"a-size-base a-link-normal a-text-normal\" href=\"/-/zh_TW/gp/slredirect/picassoRedirect.html/ref=pa_sp_atf_aps_sr_pg1_1?ie=UTF8&amp;adId=A09086251N3SD36GS2TZF&amp;url=%2Fdp%2FB096DYXVM5%2Fref%3Dsr_1_1_sspa%3Fdchild%3D1%26keywords%3Dkitty%26qid%3D1630662166%26sr%3D8-1-spons%26psc%3D1&amp;qualifier=1630662166&amp;id=1630205119401451&amp;widgetName=sp_atf\"><span class=\"a-price\" data-a-color=\"base\" data-a-size=\"l\"><span class=\"a-offscreen\">US$19.99</span><span aria-hidden=\"true\"><span class=\"a-price-symbol\">US$</span><span class=\"a-price-whole\">19<span class=\"a-price-decimal\">.</span></span><span class=\"a-price-fraction\">99</span></span></span> <span class=\"a-size-base a-color-secondary\">(US$3.33/Pound)</span> </a> </div></div><div class=\"a-section a-spacing-none a-spacing-top-micro\"><div class=\"a-row a-size-base a-color-secondary s-align-children-center\"><span class=\"a-text-bold\">免費送貨</span><span>至台灣當購買超過</span><span>US$60.00符合條件的產品</span></div></div></div>"
      ]
     },
     "metadata": {},
     "execution_count": 5
    }
   ],
   "metadata": {}
  },
  {
   "cell_type": "code",
   "execution_count": 6,
   "source": [
    "# 取得產品名稱\n",
    "title = product_info[0].select(\"span[class='a-size-base-plus a-color-base a-text-normal']\")[0].text\n",
    "title"
   ],
   "outputs": [
    {
     "output_type": "execute_result",
     "data": {
      "text/plain": [
       "'Streyant Mixed Cat Litter, Quick Clumping, Deodorize, Flushable, Dust Free & Unscented for Kitty 6LBs / Pack'"
      ]
     },
     "metadata": {},
     "execution_count": 6
    }
   ],
   "metadata": {}
  },
  {
   "cell_type": "code",
   "execution_count": 7,
   "source": [
    "# 取得價格\n",
    "price = product_info[0].select(\".a-offscreen\")[0].text   #(\"span[class='a-price'] > span[class='a-offscreen']\")[0].text\n",
    "price"
   ],
   "outputs": [
    {
     "output_type": "execute_result",
     "data": {
      "text/plain": [
       "'US$19.99'"
      ]
     },
     "metadata": {},
     "execution_count": 7
    }
   ],
   "metadata": {}
  },
  {
   "cell_type": "code",
   "execution_count": 11,
   "source": [
    "# 取得星星＆評分數\n",
    "star, rated_amount = [i.text for i in product_info[1].select(\"div[class='a-row a-size-small'] > span\")]\n",
    "star, rated_amount"
   ],
   "outputs": [
    {
     "output_type": "execute_result",
     "data": {
      "text/plain": [
       "('4.6 顆星，最高 5 顆星 ', '32,055  ')"
      ]
     },
     "metadata": {},
     "execution_count": 11
    }
   ],
   "metadata": {}
  },
  {
   "cell_type": "markdown",
   "source": [
    "### 程式碼整合（fucntion）\n",
    "目前爬取元素\n",
    "- 產品名稱\n",
    "- 價格\n",
    "- 評價星等\n",
    "- 評價人數\n",
    "\n",
    "後續增加\n",
    "- 原始價格\n",
    "- 備註說明\n",
    "- 圖片\n",
    "\n",
    "待改進\n",
    "- 爬取精準度\n",
    "- 爬取頁數（取得最後一頁編碼）\n",
    " "
   ],
   "metadata": {}
  },
  {
   "cell_type": "code",
   "execution_count": 41,
   "source": [
    "def amazon_crawler(product, pages):\n",
    "    url = \"https://www.amazon.com/s?k={}&ref=nb_sb_noss\".format(product)\n",
    "    names = []\n",
    "    prices = []\n",
    "    stars = []\n",
    "    rated_amounts = []\n",
    "\n",
    "    # 要爬幾頁\n",
    "    for p in range(1, pages): \n",
    "\n",
    "        # 參數設定 (headless, useragent)\n",
    "        options = webdriver.ChromeOptions()\n",
    "        options.add_argument(\"--headless\")\n",
    "        ua = UserAgent()\n",
    "        options.add_argument(ua.random)\n",
    "\n",
    "        # 開始爬取\n",
    "        driver = webdriver.Chrome(executable_path=\"./chromedriver\", options=options)\n",
    "        driver.get(url)\n",
    "        time.sleep(4)\n",
    "\n",
    "        # 取得soup以及各個元素\n",
    "        soup = BeautifulSoup(driver.page_source, features=\"html.parser\")\n",
    "        product_infos = soup.select(\"div[class='a-section a-spacing-none']\")\n",
    "        for pi in product_infos:\n",
    "            try:\n",
    "                name = pi.select(\"span[class='a-size-base-plus a-color-base a-text-normal']\")[0].text\n",
    "                price = pi.select(\".a-offscreen\")[0].text\n",
    "                star, rated_amount = [i.text for i in pi.select(\"div[class='a-row a-size-small'] > span\")]\n",
    "                \n",
    "                names.append(name)\n",
    "                prices.append(price)\n",
    "                stars.append(star)\n",
    "                rated_amounts.append(rated_amount)\n",
    "            except:\n",
    "                pass\n",
    "        \n",
    "        # 翻頁 => 利用qid組成下一頁的url，透過新連結換個UserAgent重新跑一次selenium\n",
    "        # note: 因為page連結的html會隨機改變，容易發生錯誤，因此利用它同頁qid共用特性來取得qid，進而組成下一頁的網址 -> 應有其他方法，日後改善！\n",
    "        qids = soup.select(\"a\")\n",
    "        for _ in range(len(qids)):\n",
    "            n = randint(1, len(qids))\n",
    "            try:\n",
    "                qid = re.findall(\".*qid=(\\d{10})\", qids[n][\"href\"])\n",
    "                if qid:\n",
    "                    break\n",
    "            except:\n",
    "                pass        \n",
    "        url = 'https://www.amazon.com/' + f'/s?k=led&page={p}&qid={qid}&ref=sr_pg_{p}'\n",
    "        \n",
    "        # 隨機sleep幾秒\n",
    "        time.sleep(randint(5,15))\n",
    "        \n",
    "    # 爬取完成，創造dataframe來裝資料\n",
    "    df = pd.DataFrame({\"Name\":names, \"Price\":prices, \"Star\":stars, \"Rated\":rated_amounts})\n",
    "\n",
    "    return df"
   ],
   "outputs": [],
   "metadata": {}
  },
  {
   "cell_type": "code",
   "execution_count": 42,
   "source": [
    "df_output = amazon_crawler(\"tissues\", 7)"
   ],
   "outputs": [],
   "metadata": {}
  },
  {
   "cell_type": "markdown",
   "source": [
    "### 爬取結果"
   ],
   "metadata": {}
  },
  {
   "cell_type": "code",
   "execution_count": 43,
   "source": [
    "df_output"
   ],
   "outputs": [
    {
     "output_type": "execute_result",
     "data": {
      "text/plain": [
       "                                                  Name    Price  \\\n",
       "0    Amazon Brand - Presto! Ultra-Soft Facial Tissu...   $22.99   \n",
       "1    Kleenex Professional Facial Tissue Cube for Bu...   $11.97   \n",
       "2    Kleenex Professional Facial Tissue for Busines...   $61.99   \n",
       "3    Quilted Northern Ultra Plush Toilet Paper, 24 ...   $22.44   \n",
       "4    Kleenex Professional Facial Tissue Cube for Bu...   $54.50   \n",
       "..                                                 ...      ...   \n",
       "281  2x2 LED Flat Panel Light, Allsmartlife 2x2FT L...  $164.88   \n",
       "282  Poolexa 10 Inch Large LED Color Inground Pool ...  $279.80   \n",
       "283  Fahren 9007/HB5 LED Headlight Bulbs, 60W 12000...   $49.99   \n",
       "284  Lutron Caseta Smart Home Dimmer Switch, Works ...   $52.79   \n",
       "285  Solar Lights Outdoor, 4 Packs Solar Garden Lot...   $19.99   \n",
       "\n",
       "                    Star     Rated  \n",
       "0    4.7 out of 5 stars    3,378    \n",
       "1    4.7 out of 5 stars    4,646    \n",
       "2    4.6 out of 5 stars    1,101    \n",
       "3    4.8 out of 5 stars   42,568    \n",
       "4    4.6 out of 5 stars    2,402    \n",
       "..                   ...       ...  \n",
       "281  4.6 out of 5 stars      211    \n",
       "282  4.5 out of 5 stars      130    \n",
       "283  4.4 out of 5 stars    8,366    \n",
       "284  4.8 out of 5 stars    3,383    \n",
       "285  1.0 out of 5 stars        1    \n",
       "\n",
       "[286 rows x 4 columns]"
      ],
      "text/html": [
       "<div>\n",
       "<style scoped>\n",
       "    .dataframe tbody tr th:only-of-type {\n",
       "        vertical-align: middle;\n",
       "    }\n",
       "\n",
       "    .dataframe tbody tr th {\n",
       "        vertical-align: top;\n",
       "    }\n",
       "\n",
       "    .dataframe thead th {\n",
       "        text-align: right;\n",
       "    }\n",
       "</style>\n",
       "<table border=\"1\" class=\"dataframe\">\n",
       "  <thead>\n",
       "    <tr style=\"text-align: right;\">\n",
       "      <th></th>\n",
       "      <th>Name</th>\n",
       "      <th>Price</th>\n",
       "      <th>Star</th>\n",
       "      <th>Rated</th>\n",
       "    </tr>\n",
       "  </thead>\n",
       "  <tbody>\n",
       "    <tr>\n",
       "      <th>0</th>\n",
       "      <td>Amazon Brand - Presto! Ultra-Soft Facial Tissu...</td>\n",
       "      <td>$22.99</td>\n",
       "      <td>4.7 out of 5 stars</td>\n",
       "      <td>3,378</td>\n",
       "    </tr>\n",
       "    <tr>\n",
       "      <th>1</th>\n",
       "      <td>Kleenex Professional Facial Tissue Cube for Bu...</td>\n",
       "      <td>$11.97</td>\n",
       "      <td>4.7 out of 5 stars</td>\n",
       "      <td>4,646</td>\n",
       "    </tr>\n",
       "    <tr>\n",
       "      <th>2</th>\n",
       "      <td>Kleenex Professional Facial Tissue for Busines...</td>\n",
       "      <td>$61.99</td>\n",
       "      <td>4.6 out of 5 stars</td>\n",
       "      <td>1,101</td>\n",
       "    </tr>\n",
       "    <tr>\n",
       "      <th>3</th>\n",
       "      <td>Quilted Northern Ultra Plush Toilet Paper, 24 ...</td>\n",
       "      <td>$22.44</td>\n",
       "      <td>4.8 out of 5 stars</td>\n",
       "      <td>42,568</td>\n",
       "    </tr>\n",
       "    <tr>\n",
       "      <th>4</th>\n",
       "      <td>Kleenex Professional Facial Tissue Cube for Bu...</td>\n",
       "      <td>$54.50</td>\n",
       "      <td>4.6 out of 5 stars</td>\n",
       "      <td>2,402</td>\n",
       "    </tr>\n",
       "    <tr>\n",
       "      <th>...</th>\n",
       "      <td>...</td>\n",
       "      <td>...</td>\n",
       "      <td>...</td>\n",
       "      <td>...</td>\n",
       "    </tr>\n",
       "    <tr>\n",
       "      <th>281</th>\n",
       "      <td>2x2 LED Flat Panel Light, Allsmartlife 2x2FT L...</td>\n",
       "      <td>$164.88</td>\n",
       "      <td>4.6 out of 5 stars</td>\n",
       "      <td>211</td>\n",
       "    </tr>\n",
       "    <tr>\n",
       "      <th>282</th>\n",
       "      <td>Poolexa 10 Inch Large LED Color Inground Pool ...</td>\n",
       "      <td>$279.80</td>\n",
       "      <td>4.5 out of 5 stars</td>\n",
       "      <td>130</td>\n",
       "    </tr>\n",
       "    <tr>\n",
       "      <th>283</th>\n",
       "      <td>Fahren 9007/HB5 LED Headlight Bulbs, 60W 12000...</td>\n",
       "      <td>$49.99</td>\n",
       "      <td>4.4 out of 5 stars</td>\n",
       "      <td>8,366</td>\n",
       "    </tr>\n",
       "    <tr>\n",
       "      <th>284</th>\n",
       "      <td>Lutron Caseta Smart Home Dimmer Switch, Works ...</td>\n",
       "      <td>$52.79</td>\n",
       "      <td>4.8 out of 5 stars</td>\n",
       "      <td>3,383</td>\n",
       "    </tr>\n",
       "    <tr>\n",
       "      <th>285</th>\n",
       "      <td>Solar Lights Outdoor, 4 Packs Solar Garden Lot...</td>\n",
       "      <td>$19.99</td>\n",
       "      <td>1.0 out of 5 stars</td>\n",
       "      <td>1</td>\n",
       "    </tr>\n",
       "  </tbody>\n",
       "</table>\n",
       "<p>286 rows × 4 columns</p>\n",
       "</div>"
      ]
     },
     "metadata": {},
     "execution_count": 43
    }
   ],
   "metadata": {}
  },
  {
   "cell_type": "markdown",
   "source": [
    "### Data cleansing "
   ],
   "metadata": {}
  },
  {
   "cell_type": "code",
   "execution_count": 44,
   "source": [
    "df_output.rename(columns={\"Pirce\":\"Price\"}, inplace=True)"
   ],
   "outputs": [],
   "metadata": {}
  },
  {
   "cell_type": "code",
   "execution_count": 45,
   "source": [
    "# Price -> 轉成float\n",
    "df_output[\"Price\"] = df_output[\"Price\"].apply(lambda x: x.replace(\"$\", \"\")).astype(\"float64\")"
   ],
   "outputs": [],
   "metadata": {}
  },
  {
   "cell_type": "code",
   "execution_count": 46,
   "source": [
    "# Star -> 擷取出數值，轉成float\n",
    "df_output[\"Star\"] = df_output[\"Star\"].apply(lambda x: x[:3]).astype(\"float64\")"
   ],
   "outputs": [],
   "metadata": {}
  },
  {
   "cell_type": "code",
   "execution_count": 47,
   "source": [
    "# Rated -> 消除空白格，轉成int\n",
    "df_output[\"Rated\"] = df_output[\"Rated\"].apply(lambda x: re.sub(\",| \", \"\", x)).astype(\"int\")"
   ],
   "outputs": [],
   "metadata": {}
  },
  {
   "cell_type": "code",
   "execution_count": 48,
   "source": [
    "df_output.head()"
   ],
   "outputs": [
    {
     "output_type": "execute_result",
     "data": {
      "text/plain": [
       "                                                Name  Price  Star  Rated\n",
       "0  Amazon Brand - Presto! Ultra-Soft Facial Tissu...  22.99   4.7   3378\n",
       "1  Kleenex Professional Facial Tissue Cube for Bu...  11.97   4.7   4646\n",
       "2  Kleenex Professional Facial Tissue for Busines...  61.99   4.6   1101\n",
       "3  Quilted Northern Ultra Plush Toilet Paper, 24 ...  22.44   4.8  42568\n",
       "4  Kleenex Professional Facial Tissue Cube for Bu...  54.50   4.6   2402"
      ],
      "text/html": [
       "<div>\n",
       "<style scoped>\n",
       "    .dataframe tbody tr th:only-of-type {\n",
       "        vertical-align: middle;\n",
       "    }\n",
       "\n",
       "    .dataframe tbody tr th {\n",
       "        vertical-align: top;\n",
       "    }\n",
       "\n",
       "    .dataframe thead th {\n",
       "        text-align: right;\n",
       "    }\n",
       "</style>\n",
       "<table border=\"1\" class=\"dataframe\">\n",
       "  <thead>\n",
       "    <tr style=\"text-align: right;\">\n",
       "      <th></th>\n",
       "      <th>Name</th>\n",
       "      <th>Price</th>\n",
       "      <th>Star</th>\n",
       "      <th>Rated</th>\n",
       "    </tr>\n",
       "  </thead>\n",
       "  <tbody>\n",
       "    <tr>\n",
       "      <th>0</th>\n",
       "      <td>Amazon Brand - Presto! Ultra-Soft Facial Tissu...</td>\n",
       "      <td>22.99</td>\n",
       "      <td>4.7</td>\n",
       "      <td>3378</td>\n",
       "    </tr>\n",
       "    <tr>\n",
       "      <th>1</th>\n",
       "      <td>Kleenex Professional Facial Tissue Cube for Bu...</td>\n",
       "      <td>11.97</td>\n",
       "      <td>4.7</td>\n",
       "      <td>4646</td>\n",
       "    </tr>\n",
       "    <tr>\n",
       "      <th>2</th>\n",
       "      <td>Kleenex Professional Facial Tissue for Busines...</td>\n",
       "      <td>61.99</td>\n",
       "      <td>4.6</td>\n",
       "      <td>1101</td>\n",
       "    </tr>\n",
       "    <tr>\n",
       "      <th>3</th>\n",
       "      <td>Quilted Northern Ultra Plush Toilet Paper, 24 ...</td>\n",
       "      <td>22.44</td>\n",
       "      <td>4.8</td>\n",
       "      <td>42568</td>\n",
       "    </tr>\n",
       "    <tr>\n",
       "      <th>4</th>\n",
       "      <td>Kleenex Professional Facial Tissue Cube for Bu...</td>\n",
       "      <td>54.50</td>\n",
       "      <td>4.6</td>\n",
       "      <td>2402</td>\n",
       "    </tr>\n",
       "  </tbody>\n",
       "</table>\n",
       "</div>"
      ]
     },
     "metadata": {},
     "execution_count": 48
    }
   ],
   "metadata": {}
  },
  {
   "cell_type": "code",
   "execution_count": null,
   "source": [],
   "outputs": [],
   "metadata": {}
  }
 ],
 "metadata": {
  "orig_nbformat": 4,
  "language_info": {
   "name": "python",
   "version": "3.8.3",
   "mimetype": "text/x-python",
   "codemirror_mode": {
    "name": "ipython",
    "version": 3
   },
   "pygments_lexer": "ipython3",
   "nbconvert_exporter": "python",
   "file_extension": ".py"
  },
  "kernelspec": {
   "name": "python3",
   "display_name": "Python 3.8.3 64-bit ('base': conda)"
  },
  "interpreter": {
   "hash": "7b4db6f4314de8d4cd797f28a178c3ff3d1b87f4cb8353b93947a436002fe6e1"
  }
 },
 "nbformat": 4,
 "nbformat_minor": 2
}