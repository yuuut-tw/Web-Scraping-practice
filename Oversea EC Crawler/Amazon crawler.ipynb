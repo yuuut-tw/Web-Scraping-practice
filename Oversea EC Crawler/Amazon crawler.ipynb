{
 "cells": [
  {
   "cell_type": "code",
   "execution_count": 52,
   "source": [
    "import pandas as pd\n",
    "import re\n",
    "import requests\n",
    "from random import randint\n",
    "from bs4 import BeautifulSoup\n",
    "from selenium import webdriver\n",
    "from selenium.webdriver.support.ui import Select\n",
    "from fake_useragent import UserAgent\n",
    "import time"
   ],
   "outputs": [],
   "metadata": {}
  },
  {
   "cell_type": "markdown",
   "source": [
    "### 分解各個環節程式碼"
   ],
   "metadata": {}
  },
  {
   "cell_type": "code",
   "execution_count": 154,
   "source": [
    "# amazon website\n",
    "product = \"kitty\"\n",
    "url = \"https://www.amazon.com/s?k={}&ref=nb_sb_noss\".format(product)\n",
    "\n",
    "# 加入headless模式 => 注意：使用時google版本可能不一樣\n",
    "options = webdriver.ChromeOptions()\n",
    "#options.add_argument(\"--headless\")\n",
    "# 設定fake_agent\n",
    "ua = UserAgent()\n",
    "options.add_argument(ua.random)\n",
    "\n",
    "# 將參數帶入\n",
    "driver = webdriver.Chrome(options=options, executable_path=\"./chromedriver\")\n",
    "driver.get(url)\n",
    "time.sleep(2)\n",
    "\n",
    "# 取得頁面的html\n",
    "soup = BeautifulSoup(driver.page_source, \"html.parser\")\n",
    "\n",
    "# 關閉頁面\n",
    "#driver.close()"
   ],
   "outputs": [],
   "metadata": {}
  },
  {
   "cell_type": "code",
   "execution_count": 64,
   "source": [
    "# 查看總共有幾個\n",
    "product_info = soup.select(\"div[class='a-section a-spacing-none']\")\n",
    "len(product_info)"
   ],
   "outputs": [
    {
     "output_type": "execute_result",
     "data": {
      "text/plain": [
       "81"
      ]
     },
     "metadata": {},
     "execution_count": 64
    }
   ],
   "metadata": {}
  },
  {
   "cell_type": "code",
   "execution_count": 65,
   "source": [
    "product_info[0]"
   ],
   "outputs": [
    {
     "output_type": "execute_result",
     "data": {
      "text/plain": [
       "<div class=\"a-section a-spacing-none\"><div class=\"a-section a-spacing-none a-spacing-top-small\"><div class=\"a-row a-spacing-micro\"><span class=\"a-size-mini a-color-secondary\">Featured from our brands</span></div><h2 class=\"a-size-mini a-spacing-none a-color-base s-line-clamp-4\"><a class=\"a-link-normal a-text-normal\" href=\"/gp/slredirect/picassoRedirect.html/ref=pa_sp_atf_aps_sr_pg1_1?ie=UTF8&amp;adId=A00224332ETVFBEILU3CA&amp;url=%2FChanging-Dimmbale-Lighting-Decoration-Backlight%2Fdp%2FB08HQ66VXQ%2Fref%3Dsr_1_1_sspa%3Fdchild%3D1%26keywords%3Dled%26qid%3D1630649022%26sr%3D8-1-spons%26psc%3D1&amp;qualifier=1630649022&amp;id=4640386571308055&amp;widgetName=sp_atf\"><span class=\"a-size-base-plus a-color-base a-text-normal\">sylvwin LED Strip Lights 16.4FT,RGB Strip Lights with Color Changing,SMD 5050 Dimmable Lighting with Remote Control for Home Kitchen,Bedroom Decoration,Party,TV Backlight</span> </a> </h2></div><div class=\"a-section a-spacing-none a-spacing-top-micro\"><div class=\"a-row a-size-small\"><span aria-label=\"4.2 out of 5 stars\"><span class=\"a-declarative\" data-a-popover='{\"closeButton\":false,\"closeButtonLabel\":\"\",\"position\":\"triggerBottom\",\"popoverLabel\":\"\",\"url\":\"/review/widgets/average-customer-review/popover/ref=acr_search__popover?ie=UTF8&amp;asin=B08HQ66VXQ&amp;ref=acr_search__popover&amp;contextId=search\"}' data-action=\"a-popover\"><a class=\"a-popover-trigger a-declarative\" href=\"javascript:void(0)\" role=\"button\"><i class=\"a-icon a-icon-star-small a-star-small-4 aok-align-bottom\"><span class=\"a-icon-alt\">4.2 out of 5 stars</span></i><i class=\"a-icon a-icon-popover\"></i></a></span> </span><span aria-label=\"1,956\"><a class=\"a-link-normal\" href=\"/gp/slredirect/picassoRedirect.html/ref=pa_sp_atf_aps_sr_pg1_1?ie=UTF8&amp;adId=A00224332ETVFBEILU3CA&amp;url=%2FChanging-Dimmbale-Lighting-Decoration-Backlight%2Fdp%2FB08HQ66VXQ%2Fref%3Dsr_1_1_sspa%3Fdchild%3D1%26keywords%3Dled%26qid%3D1630649022%26sr%3D8-1-spons%26psc%3D1&amp;qualifier=1630649022&amp;id=4640386571308055&amp;widgetName=sp_atf#customerReviews\"><span class=\"a-size-base\">1,956</span> </a> </span></div></div></div>"
      ]
     },
     "metadata": {},
     "execution_count": 65
    }
   ],
   "metadata": {}
  },
  {
   "cell_type": "code",
   "execution_count": 66,
   "source": [
    "# 取得產品名稱\n",
    "title = product_info[0].select(\"span[class='a-size-base-plus a-color-base a-text-normal']\")[0].text\n",
    "title"
   ],
   "outputs": [
    {
     "output_type": "execute_result",
     "data": {
      "text/plain": [
       "'sylvwin LED Strip Lights 16.4FT,RGB Strip Lights with Color Changing,SMD 5050 Dimmable Lighting with Remote Control for Home Kitchen,Bedroom Decoration,Party,TV Backlight'"
      ]
     },
     "metadata": {},
     "execution_count": 66
    }
   ],
   "metadata": {}
  },
  {
   "cell_type": "code",
   "execution_count": 21,
   "source": [
    "# 取得價格\n",
    "price = product_info[0].select(\".a-offscreen\")[0].text   #(\"span[class='a-price'] > span[class='a-offscreen']\")[0].text\n",
    "price"
   ],
   "outputs": [
    {
     "output_type": "execute_result",
     "data": {
      "text/plain": [
       "'$21.99'"
      ]
     },
     "metadata": {},
     "execution_count": 21
    }
   ],
   "metadata": {}
  },
  {
   "cell_type": "code",
   "execution_count": 22,
   "source": [
    "# 取得星星＆評分數\n",
    "star, rated_amount = [i.text for i in product_info[0].select(\"div[class='a-row a-size-small'] > span\")]\n",
    "star, rated_amount"
   ],
   "outputs": [
    {
     "output_type": "execute_result",
     "data": {
      "text/plain": [
       "('4.6 out of 5 stars ', '14,348  ')"
      ]
     },
     "metadata": {},
     "execution_count": 22
    }
   ],
   "metadata": {}
  },
  {
   "cell_type": "markdown",
   "source": [
    "### 將以上程式碼整理為一個fucntion"
   ],
   "metadata": {}
  },
  {
   "cell_type": "code",
   "execution_count": 178,
   "source": [
    "def amazon_crawler(product, pages):\n",
    "    url = \"https://www.amazon.com/s?k={}&ref=nb_sb_noss\".format(product)\n",
    "    names = []\n",
    "    prices = []\n",
    "    stars = []\n",
    "    rated_amounts = []\n",
    "\n",
    "    # 要爬幾頁\n",
    "    for p in range(1, pages): \n",
    "\n",
    "        # 參數設定 (headless, useragent)\n",
    "        options = webdriver.ChromeOptions()\n",
    "        options.add_argument(\"--headless\")\n",
    "        ua = UserAgent()\n",
    "        options.add_argument(ua.random)\n",
    "\n",
    "        # 開始爬取\n",
    "        driver = webdriver.Chrome(executable_path=\"./chromedriver\", options=options)\n",
    "        driver.get(url)\n",
    "        time.sleep(4)\n",
    "\n",
    "        # 取得soup以及各個元素\n",
    "        soup = BeautifulSoup(driver.page_source, features=\"html.parser\")\n",
    "        product_infos = soup.select(\"div[class='a-section a-spacing-none']\")\n",
    "        for pi in product_infos:\n",
    "            try:\n",
    "                name = pi.select(\"span[class='a-size-base-plus a-color-base a-text-normal']\")[0].text\n",
    "                price = pi.select(\".a-offscreen\")[0].text\n",
    "                star, rated_amount = [i.text for i in pi.select(\"div[class='a-row a-size-small'] > span\")]\n",
    "                \n",
    "                names.append(name)\n",
    "                prices.append(price)\n",
    "                stars.append(star)\n",
    "                rated_amounts.append(rated_amount)\n",
    "            except:\n",
    "                pass\n",
    "            \n",
    "        \n",
    "        # 翻頁 => 利用qid組成下一頁的url，透過新連結換個UserAgent重新跑一次selenium\n",
    "        qids = soup.select(\"a\")\n",
    "        for _ in range(len(qids)):\n",
    "            n = randint(1, len(qids))\n",
    "            try:\n",
    "                qid = re.findall(\".*qid=(\\d{10})\", qids[n][\"href\"])\n",
    "                if qid:\n",
    "                    break\n",
    "            except:\n",
    "                pass        \n",
    "        url = 'https://www.amazon.com/' + f'/s?k=led&page={p}&qid={qid}&ref=sr_pg_{p}'\n",
    "        \n",
    "        # 隨機sleep幾秒\n",
    "        time.sleep(randint(5,15))\n",
    "        \n",
    "    # 爬取完成，創造dataframe來裝資料\n",
    "    df = pd.DataFrame({\"Name\":names, \"Pirce\":prices, \"Star\":stars, \"Rated\":rated_amounts})\n",
    "\n",
    "    return df"
   ],
   "outputs": [],
   "metadata": {}
  },
  {
   "cell_type": "code",
   "execution_count": 179,
   "source": [
    "df_output = amazon_crawler(\"led\", 5)"
   ],
   "outputs": [],
   "metadata": {}
  },
  {
   "cell_type": "markdown",
   "source": [
    "### 爬取結果"
   ],
   "metadata": {}
  },
  {
   "cell_type": "code",
   "execution_count": 180,
   "source": [
    "df_output"
   ],
   "outputs": [
    {
     "output_type": "execute_result",
     "data": {
      "text/plain": [
       "                                                  Name   Pirce  \\\n",
       "0    40ft Led Strip Lights Keepsmile RGB Color Chan...  $13.99   \n",
       "1    QZYL 75ft LED Lights for Bedroom, RGB LED Stri...  $25.99   \n",
       "2    YORMICK LED Strip Lights, 32.8 Feet/10M 300LED...  $15.99   \n",
       "3    LED Lights for Bedroom 32.8ft, RGB LED Light S...  $18.99   \n",
       "4    Tenmiro 65.6ft Led Strip Lights, Ultra Long RG...  $28.99   \n",
       "..                                                 ...     ...   \n",
       "186  Govee RGBIC Pro LED Strip Lights, 32.8ft Color...  $52.99   \n",
       "187  Smart LED Strip Lights 50ft,Sync Music Color C...  $19.97   \n",
       "188  50ft Bluetooth LED Strip Lights, Music Sync 50...  $19.98   \n",
       "189  Magnetic Pickup Tool with LED Lights, Gifts fo...  $12.95   \n",
       "190  AISKITS PRO H13/9008 LED Headlight Conversion ...  $49.99   \n",
       "\n",
       "                    Star     Rated  \n",
       "0    4.6 out of 5 stars    3,770    \n",
       "1    4.4 out of 5 stars    1,849    \n",
       "2    4.2 out of 5 stars      825    \n",
       "3    4.5 out of 5 stars   13,790    \n",
       "4    4.6 out of 5 stars   47,743    \n",
       "..                   ...       ...  \n",
       "186  5.0 out of 5 stars        1    \n",
       "187  3.9 out of 5 stars       82    \n",
       "188  4.5 out of 5 stars    4,185    \n",
       "189  4.6 out of 5 stars       11    \n",
       "190  5.0 out of 5 stars        3    \n",
       "\n",
       "[191 rows x 4 columns]"
      ],
      "text/html": [
       "<div>\n",
       "<style scoped>\n",
       "    .dataframe tbody tr th:only-of-type {\n",
       "        vertical-align: middle;\n",
       "    }\n",
       "\n",
       "    .dataframe tbody tr th {\n",
       "        vertical-align: top;\n",
       "    }\n",
       "\n",
       "    .dataframe thead th {\n",
       "        text-align: right;\n",
       "    }\n",
       "</style>\n",
       "<table border=\"1\" class=\"dataframe\">\n",
       "  <thead>\n",
       "    <tr style=\"text-align: right;\">\n",
       "      <th></th>\n",
       "      <th>Name</th>\n",
       "      <th>Pirce</th>\n",
       "      <th>Star</th>\n",
       "      <th>Rated</th>\n",
       "    </tr>\n",
       "  </thead>\n",
       "  <tbody>\n",
       "    <tr>\n",
       "      <th>0</th>\n",
       "      <td>40ft Led Strip Lights Keepsmile RGB Color Chan...</td>\n",
       "      <td>$13.99</td>\n",
       "      <td>4.6 out of 5 stars</td>\n",
       "      <td>3,770</td>\n",
       "    </tr>\n",
       "    <tr>\n",
       "      <th>1</th>\n",
       "      <td>QZYL 75ft LED Lights for Bedroom, RGB LED Stri...</td>\n",
       "      <td>$25.99</td>\n",
       "      <td>4.4 out of 5 stars</td>\n",
       "      <td>1,849</td>\n",
       "    </tr>\n",
       "    <tr>\n",
       "      <th>2</th>\n",
       "      <td>YORMICK LED Strip Lights, 32.8 Feet/10M 300LED...</td>\n",
       "      <td>$15.99</td>\n",
       "      <td>4.2 out of 5 stars</td>\n",
       "      <td>825</td>\n",
       "    </tr>\n",
       "    <tr>\n",
       "      <th>3</th>\n",
       "      <td>LED Lights for Bedroom 32.8ft, RGB LED Light S...</td>\n",
       "      <td>$18.99</td>\n",
       "      <td>4.5 out of 5 stars</td>\n",
       "      <td>13,790</td>\n",
       "    </tr>\n",
       "    <tr>\n",
       "      <th>4</th>\n",
       "      <td>Tenmiro 65.6ft Led Strip Lights, Ultra Long RG...</td>\n",
       "      <td>$28.99</td>\n",
       "      <td>4.6 out of 5 stars</td>\n",
       "      <td>47,743</td>\n",
       "    </tr>\n",
       "    <tr>\n",
       "      <th>...</th>\n",
       "      <td>...</td>\n",
       "      <td>...</td>\n",
       "      <td>...</td>\n",
       "      <td>...</td>\n",
       "    </tr>\n",
       "    <tr>\n",
       "      <th>186</th>\n",
       "      <td>Govee RGBIC Pro LED Strip Lights, 32.8ft Color...</td>\n",
       "      <td>$52.99</td>\n",
       "      <td>5.0 out of 5 stars</td>\n",
       "      <td>1</td>\n",
       "    </tr>\n",
       "    <tr>\n",
       "      <th>187</th>\n",
       "      <td>Smart LED Strip Lights 50ft,Sync Music Color C...</td>\n",
       "      <td>$19.97</td>\n",
       "      <td>3.9 out of 5 stars</td>\n",
       "      <td>82</td>\n",
       "    </tr>\n",
       "    <tr>\n",
       "      <th>188</th>\n",
       "      <td>50ft Bluetooth LED Strip Lights, Music Sync 50...</td>\n",
       "      <td>$19.98</td>\n",
       "      <td>4.5 out of 5 stars</td>\n",
       "      <td>4,185</td>\n",
       "    </tr>\n",
       "    <tr>\n",
       "      <th>189</th>\n",
       "      <td>Magnetic Pickup Tool with LED Lights, Gifts fo...</td>\n",
       "      <td>$12.95</td>\n",
       "      <td>4.6 out of 5 stars</td>\n",
       "      <td>11</td>\n",
       "    </tr>\n",
       "    <tr>\n",
       "      <th>190</th>\n",
       "      <td>AISKITS PRO H13/9008 LED Headlight Conversion ...</td>\n",
       "      <td>$49.99</td>\n",
       "      <td>5.0 out of 5 stars</td>\n",
       "      <td>3</td>\n",
       "    </tr>\n",
       "  </tbody>\n",
       "</table>\n",
       "<p>191 rows × 4 columns</p>\n",
       "</div>"
      ]
     },
     "metadata": {},
     "execution_count": 180
    }
   ],
   "metadata": {}
  },
  {
   "cell_type": "code",
   "execution_count": null,
   "source": [],
   "outputs": [],
   "metadata": {}
  }
 ],
 "metadata": {
  "orig_nbformat": 4,
  "language_info": {
   "name": "python",
   "version": "3.8.3",
   "mimetype": "text/x-python",
   "codemirror_mode": {
    "name": "ipython",
    "version": 3
   },
   "pygments_lexer": "ipython3",
   "nbconvert_exporter": "python",
   "file_extension": ".py"
  },
  "kernelspec": {
   "name": "python3",
   "display_name": "Python 3.8.3 64-bit ('base': conda)"
  },
  "interpreter": {
   "hash": "7b4db6f4314de8d4cd797f28a178c3ff3d1b87f4cb8353b93947a436002fe6e1"
  }
 },
 "nbformat": 4,
 "nbformat_minor": 2
}