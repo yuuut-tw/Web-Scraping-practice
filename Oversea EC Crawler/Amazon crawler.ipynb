{
 "cells": [
  {
   "cell_type": "code",
   "execution_count": 2,
   "source": [
    "import pandas as pd\n",
    "import re\n",
    "import requests\n",
    "from random import randint\n",
    "from bs4 import BeautifulSoup\n",
    "from selenium import webdriver\n",
    "from selenium.webdriver.support.ui import Select\n",
    "from fake_useragent import UserAgent\n",
    "import time"
   ],
   "outputs": [],
   "metadata": {}
  },
  {
   "cell_type": "markdown",
   "source": [
    "### 分解各個環節程式碼"
   ],
   "metadata": {}
  },
  {
   "cell_type": "code",
   "execution_count": 3,
   "source": [
    "# amazon website\n",
    "product = \"kitty\"\n",
    "url = \"https://www.amazon.com/s?k={}&ref=nb_sb_noss\".format(product)\n",
    "\n",
    "# 加入headless模式 => 注意：使用時google版本可能不一樣\n",
    "options = webdriver.ChromeOptions()\n",
    "#options.add_argument(\"--headless\")\n",
    "# 設定fake_agent\n",
    "ua = UserAgent()\n",
    "options.add_argument(ua.random)\n",
    "\n",
    "# 將參數帶入\n",
    "driver = webdriver.Chrome(options=options, executable_path=\"./chromedriver\")\n",
    "driver.get(url)\n",
    "time.sleep(2)\n",
    "\n",
    "# 取得頁面的html\n",
    "soup = BeautifulSoup(driver.page_source, \"html.parser\")\n",
    "\n",
    "# 關閉頁面\n",
    "#driver.close()"
   ],
   "outputs": [],
   "metadata": {}
  },
  {
   "cell_type": "code",
   "execution_count": 4,
   "source": [
    "# 查看總共有幾個\n",
    "product_info = soup.select(\"div[class='a-section a-spacing-none']\")\n",
    "len(product_info)"
   ],
   "outputs": [
    {
     "output_type": "execute_result",
     "data": {
      "text/plain": [
       "68"
      ]
     },
     "metadata": {},
     "execution_count": 4
    }
   ],
   "metadata": {}
  },
  {
   "cell_type": "code",
   "execution_count": 5,
   "source": [
    "product_info[0]"
   ],
   "outputs": [
    {
     "output_type": "execute_result",
     "data": {
      "text/plain": [
       "<div class=\"a-section a-spacing-none\"><div class=\"a-section a-spacing-none a-spacing-top-small\"><div class=\"a-row a-spacing-micro\"><span class=\"a-declarative\" data-a-popover='{\"closeButton\":\"true\",\"dataStrategy\":\"preload\",\"name\":\"sp-info-popover-mobile\"}' data-action=\"a-popover\"><span class=\"s-sponsored-label-text\"><span class=\"a-color-secondary\">贊助</span></span></span><div class=\"a-popover-preload\" id=\"a-popover-sp-info-popover-mobile\"><span class=\"a-color-secondary\">贊助</span></div></div><h2 class=\"a-size-mini a-spacing-none a-color-base s-line-clamp-4\"><a class=\"a-link-normal a-text-normal\" href=\"/-/zh_TW/gp/slredirect/picassoRedirect.html/ref=pa_sp_atf_aps_sr_pg1_1?ie=UTF8&amp;adId=A09086251N3SD36GS2TZF&amp;url=%2Fdp%2FB096DYXVM5%2Fref%3Dsr_1_1_sspa%3Fdchild%3D1%26keywords%3Dkitty%26qid%3D1630662166%26sr%3D8-1-spons%26psc%3D1&amp;qualifier=1630662166&amp;id=1630205119401451&amp;widgetName=sp_atf\"><span class=\"a-size-base-plus a-color-base a-text-normal\">Streyant Mixed Cat Litter, Quick Clumping, Deodorize, Flushable, Dust Free &amp; Unscented for Kitty 6LBs / Pack</span> </a> </h2></div><div class=\"a-section a-spacing-none a-spacing-top-small\"><div class=\"a-row a-size-base a-color-base\"><a class=\"a-size-base a-link-normal a-text-normal\" href=\"/-/zh_TW/gp/slredirect/picassoRedirect.html/ref=pa_sp_atf_aps_sr_pg1_1?ie=UTF8&amp;adId=A09086251N3SD36GS2TZF&amp;url=%2Fdp%2FB096DYXVM5%2Fref%3Dsr_1_1_sspa%3Fdchild%3D1%26keywords%3Dkitty%26qid%3D1630662166%26sr%3D8-1-spons%26psc%3D1&amp;qualifier=1630662166&amp;id=1630205119401451&amp;widgetName=sp_atf\"><span class=\"a-price\" data-a-color=\"base\" data-a-size=\"l\"><span class=\"a-offscreen\">US$19.99</span><span aria-hidden=\"true\"><span class=\"a-price-symbol\">US$</span><span class=\"a-price-whole\">19<span class=\"a-price-decimal\">.</span></span><span class=\"a-price-fraction\">99</span></span></span> <span class=\"a-size-base a-color-secondary\">(US$3.33/Pound)</span> </a> </div></div><div class=\"a-section a-spacing-none a-spacing-top-micro\"><div class=\"a-row a-size-base a-color-secondary s-align-children-center\"><span class=\"a-text-bold\">免費送貨</span><span>至台灣當購買超過</span><span>US$60.00符合條件的產品</span></div></div></div>"
      ]
     },
     "metadata": {},
     "execution_count": 5
    }
   ],
   "metadata": {}
  },
  {
   "cell_type": "code",
   "execution_count": 6,
   "source": [
    "# 取得產品名稱\n",
    "title = product_info[0].select(\"span[class='a-size-base-plus a-color-base a-text-normal']\")[0].text\n",
    "title"
   ],
   "outputs": [
    {
     "output_type": "execute_result",
     "data": {
      "text/plain": [
       "'Streyant Mixed Cat Litter, Quick Clumping, Deodorize, Flushable, Dust Free & Unscented for Kitty 6LBs / Pack'"
      ]
     },
     "metadata": {},
     "execution_count": 6
    }
   ],
   "metadata": {}
  },
  {
   "cell_type": "code",
   "execution_count": 7,
   "source": [
    "# 取得價格\n",
    "price = product_info[0].select(\".a-offscreen\")[0].text   #(\"span[class='a-price'] > span[class='a-offscreen']\")[0].text\n",
    "price"
   ],
   "outputs": [
    {
     "output_type": "execute_result",
     "data": {
      "text/plain": [
       "'US$19.99'"
      ]
     },
     "metadata": {},
     "execution_count": 7
    }
   ],
   "metadata": {}
  },
  {
   "cell_type": "code",
   "execution_count": 11,
   "source": [
    "# 取得星星＆評分數\n",
    "star, rated_amount = [i.text for i in product_info[1].select(\"div[class='a-row a-size-small'] > span\")]\n",
    "star, rated_amount"
   ],
   "outputs": [
    {
     "output_type": "execute_result",
     "data": {
      "text/plain": [
       "('4.6 顆星，最高 5 顆星 ', '32,055  ')"
      ]
     },
     "metadata": {},
     "execution_count": 11
    }
   ],
   "metadata": {}
  },
  {
   "cell_type": "markdown",
   "source": [
    "### 將以上程式碼整理為一個fucntion"
   ],
   "metadata": {}
  },
  {
   "cell_type": "code",
   "execution_count": 15,
   "source": [
    "def amazon_crawler(product, pages):\n",
    "    url = \"https://www.amazon.com/s?k={}&ref=nb_sb_noss\".format(product)\n",
    "    names = []\n",
    "    prices = []\n",
    "    stars = []\n",
    "    rated_amounts = []\n",
    "\n",
    "    # 要爬幾頁\n",
    "    for p in range(1, pages): \n",
    "\n",
    "        # 參數設定 (headless, useragent)\n",
    "        options = webdriver.ChromeOptions()\n",
    "        options.add_argument(\"--headless\")\n",
    "        ua = UserAgent()\n",
    "        options.add_argument(ua.random)\n",
    "\n",
    "        # 開始爬取\n",
    "        driver = webdriver.Chrome(executable_path=\"./chromedriver\", options=options)\n",
    "        driver.get(url)\n",
    "        time.sleep(4)\n",
    "\n",
    "        # 取得soup以及各個元素\n",
    "        soup = BeautifulSoup(driver.page_source, features=\"html.parser\")\n",
    "        product_infos = soup.select(\"div[class='a-section a-spacing-none']\")\n",
    "        for pi in product_infos:\n",
    "            try:\n",
    "                name = pi.select(\"span[class='a-size-base-plus a-color-base a-text-normal']\")[0].text\n",
    "                price = pi.select(\".a-offscreen\")[0].text\n",
    "                star, rated_amount = [i.text for i in pi.select(\"div[class='a-row a-size-small'] > span\")]\n",
    "                \n",
    "                names.append(name)\n",
    "                prices.append(price)\n",
    "                stars.append(star)\n",
    "                rated_amounts.append(rated_amount)\n",
    "            except:\n",
    "                pass\n",
    "            \n",
    "        \n",
    "        # 翻頁 => 利用qid組成下一頁的url，透過新連結換個UserAgent重新跑一次selenium\n",
    "        # note: 因為page連結的html會隨機改變，容易發生錯誤，因此利用它同頁qid共用特性來取得qid，進而組成下一頁的網址 -> 應有其他方法，日後改善！\n",
    "        qids = soup.select(\"a\")\n",
    "        for _ in range(len(qids)):\n",
    "            n = randint(1, len(qids))\n",
    "            try:\n",
    "                qid = re.findall(\".*qid=(\\d{10})\", qids[n][\"href\"])\n",
    "                if qid:\n",
    "                    break\n",
    "            except:\n",
    "                pass        \n",
    "        url = 'https://www.amazon.com/' + f'/s?k=led&page={p}&qid={qid}&ref=sr_pg_{p}'\n",
    "        \n",
    "        # 隨機sleep幾秒\n",
    "        time.sleep(randint(5,15))\n",
    "        \n",
    "    # 爬取完成，創造dataframe來裝資料\n",
    "    df = pd.DataFrame({\"Name\":names, \"Price\":prices, \"Star\":stars, \"Rated\":rated_amounts})\n",
    "\n",
    "    return df"
   ],
   "outputs": [],
   "metadata": {}
  },
  {
   "cell_type": "code",
   "execution_count": 16,
   "source": [
    "df_output = amazon_crawler(\"led\", 5)"
   ],
   "outputs": [],
   "metadata": {}
  },
  {
   "cell_type": "markdown",
   "source": [
    "### 爬取結果"
   ],
   "metadata": {}
  },
  {
   "cell_type": "code",
   "execution_count": 14,
   "source": [
    "df_output"
   ],
   "outputs": [
    {
     "output_type": "execute_result",
     "data": {
      "text/plain": [
       "                                                  Name    Pirce  \\\n",
       "0    40ft Led Strip Lights Keepsmile RGB Color Chan...   $13.99   \n",
       "1    Lepro 50ft LED Strip Lights, Ultra-Long RGB 50...   $21.99   \n",
       "2    82Ft/25m LED Strip Lights，Micomlan Music Sync ...   $27.99   \n",
       "3    LED Strip Lights, Hiromeco 82Ft Led Light Stri...   $19.99   \n",
       "4    Tenmiro 65.6ft Led Strip Lights, Ultra Long RG...   $28.99   \n",
       "..                                                 ...      ...   \n",
       "213  LEDMO 120W LED Wall Pack Light with Dusk-to-Da...   $99.99   \n",
       "214  LED Desk Lamp Eye-Caring Table Light with USB ...   $39.99   \n",
       "215  LEDMO LED Parking Lot Lights 19500LM - [500W H...  $429.99   \n",
       "216  Smart Table Lamp, LED Warm & White Bedside Lam...   $39.99   \n",
       "217  AISKITS PRO H13/9008 LED Headlight Conversion ...   $49.99   \n",
       "\n",
       "                    Star     Rated  \n",
       "0    4.6 out of 5 stars    3,770    \n",
       "1    4.6 out of 5 stars   14,348    \n",
       "2    4.6 out of 5 stars    4,123    \n",
       "3    4.6 out of 5 stars    1,085    \n",
       "4    4.6 out of 5 stars   47,743    \n",
       "..                   ...       ...  \n",
       "213  4.6 out of 5 stars      616    \n",
       "214  4.4 out of 5 stars       37    \n",
       "215  4.6 out of 5 stars      124    \n",
       "216  4.5 out of 5 stars       16    \n",
       "217  5.0 out of 5 stars        3    \n",
       "\n",
       "[218 rows x 4 columns]"
      ],
      "text/html": [
       "<div>\n",
       "<style scoped>\n",
       "    .dataframe tbody tr th:only-of-type {\n",
       "        vertical-align: middle;\n",
       "    }\n",
       "\n",
       "    .dataframe tbody tr th {\n",
       "        vertical-align: top;\n",
       "    }\n",
       "\n",
       "    .dataframe thead th {\n",
       "        text-align: right;\n",
       "    }\n",
       "</style>\n",
       "<table border=\"1\" class=\"dataframe\">\n",
       "  <thead>\n",
       "    <tr style=\"text-align: right;\">\n",
       "      <th></th>\n",
       "      <th>Name</th>\n",
       "      <th>Pirce</th>\n",
       "      <th>Star</th>\n",
       "      <th>Rated</th>\n",
       "    </tr>\n",
       "  </thead>\n",
       "  <tbody>\n",
       "    <tr>\n",
       "      <th>0</th>\n",
       "      <td>40ft Led Strip Lights Keepsmile RGB Color Chan...</td>\n",
       "      <td>$13.99</td>\n",
       "      <td>4.6 out of 5 stars</td>\n",
       "      <td>3,770</td>\n",
       "    </tr>\n",
       "    <tr>\n",
       "      <th>1</th>\n",
       "      <td>Lepro 50ft LED Strip Lights, Ultra-Long RGB 50...</td>\n",
       "      <td>$21.99</td>\n",
       "      <td>4.6 out of 5 stars</td>\n",
       "      <td>14,348</td>\n",
       "    </tr>\n",
       "    <tr>\n",
       "      <th>2</th>\n",
       "      <td>82Ft/25m LED Strip Lights，Micomlan Music Sync ...</td>\n",
       "      <td>$27.99</td>\n",
       "      <td>4.6 out of 5 stars</td>\n",
       "      <td>4,123</td>\n",
       "    </tr>\n",
       "    <tr>\n",
       "      <th>3</th>\n",
       "      <td>LED Strip Lights, Hiromeco 82Ft Led Light Stri...</td>\n",
       "      <td>$19.99</td>\n",
       "      <td>4.6 out of 5 stars</td>\n",
       "      <td>1,085</td>\n",
       "    </tr>\n",
       "    <tr>\n",
       "      <th>4</th>\n",
       "      <td>Tenmiro 65.6ft Led Strip Lights, Ultra Long RG...</td>\n",
       "      <td>$28.99</td>\n",
       "      <td>4.6 out of 5 stars</td>\n",
       "      <td>47,743</td>\n",
       "    </tr>\n",
       "    <tr>\n",
       "      <th>...</th>\n",
       "      <td>...</td>\n",
       "      <td>...</td>\n",
       "      <td>...</td>\n",
       "      <td>...</td>\n",
       "    </tr>\n",
       "    <tr>\n",
       "      <th>213</th>\n",
       "      <td>LEDMO 120W LED Wall Pack Light with Dusk-to-Da...</td>\n",
       "      <td>$99.99</td>\n",
       "      <td>4.6 out of 5 stars</td>\n",
       "      <td>616</td>\n",
       "    </tr>\n",
       "    <tr>\n",
       "      <th>214</th>\n",
       "      <td>LED Desk Lamp Eye-Caring Table Light with USB ...</td>\n",
       "      <td>$39.99</td>\n",
       "      <td>4.4 out of 5 stars</td>\n",
       "      <td>37</td>\n",
       "    </tr>\n",
       "    <tr>\n",
       "      <th>215</th>\n",
       "      <td>LEDMO LED Parking Lot Lights 19500LM - [500W H...</td>\n",
       "      <td>$429.99</td>\n",
       "      <td>4.6 out of 5 stars</td>\n",
       "      <td>124</td>\n",
       "    </tr>\n",
       "    <tr>\n",
       "      <th>216</th>\n",
       "      <td>Smart Table Lamp, LED Warm &amp; White Bedside Lam...</td>\n",
       "      <td>$39.99</td>\n",
       "      <td>4.5 out of 5 stars</td>\n",
       "      <td>16</td>\n",
       "    </tr>\n",
       "    <tr>\n",
       "      <th>217</th>\n",
       "      <td>AISKITS PRO H13/9008 LED Headlight Conversion ...</td>\n",
       "      <td>$49.99</td>\n",
       "      <td>5.0 out of 5 stars</td>\n",
       "      <td>3</td>\n",
       "    </tr>\n",
       "  </tbody>\n",
       "</table>\n",
       "<p>218 rows × 4 columns</p>\n",
       "</div>"
      ]
     },
     "metadata": {},
     "execution_count": 14
    }
   ],
   "metadata": {}
  },
  {
   "cell_type": "markdown",
   "source": [
    "### Data cleansing "
   ],
   "metadata": {}
  },
  {
   "cell_type": "code",
   "execution_count": 19,
   "source": [
    "df_output.rename(columns={\"Pirce\":\"Price\"}, inplace=True)"
   ],
   "outputs": [],
   "metadata": {}
  },
  {
   "cell_type": "code",
   "execution_count": 25,
   "source": [
    "# Price -> 轉成float\n",
    "df_output[\"Price\"] = df_output[\"Price\"].apply(lambda x: x.replace(\"$\", \"\")).astype(\"float64\")"
   ],
   "outputs": [],
   "metadata": {}
  },
  {
   "cell_type": "code",
   "execution_count": 28,
   "source": [
    "# Star -> 擷取出數值，轉成float\n",
    "df_output[\"Star\"] = df_output[\"Star\"].apply(lambda x: x[:3]).astype(\"float64\")"
   ],
   "outputs": [],
   "metadata": {}
  },
  {
   "cell_type": "code",
   "execution_count": 34,
   "source": [
    "# Rated -> 消除空白格，轉成int\n",
    "df_output[\"Rated\"] = df_output[\"Rated\"].apply(lambda x: re.sub(\",| \", \"\", x)).astype(\"int\")"
   ],
   "outputs": [],
   "metadata": {}
  },
  {
   "cell_type": "code",
   "execution_count": 40,
   "source": [
    "df_output.head()"
   ],
   "outputs": [
    {
     "output_type": "execute_result",
     "data": {
      "text/plain": [
       "                                                Name  Price  Star  Rated\n",
       "0  Lepro 50ft LED Strip Lights, Ultra-Long RGB 50...  21.99   4.6  14357\n",
       "1  65.6ft Led Strip Lights Jadisi Music Sync RGB ...  21.99   4.6   3872\n",
       "2  Lepro 65.6ft LED Strip Lights, Ultra-Long RGB ...  26.99   4.6   8645\n",
       "3  50 FT Long LED Strip Lights, GUPUP LED Lights ...  18.99   4.6   1399\n",
       "4  Tenmiro 65.6ft Led Strip Lights, Ultra Long RG...  28.99   4.6  47861"
      ],
      "text/html": [
       "<div>\n",
       "<style scoped>\n",
       "    .dataframe tbody tr th:only-of-type {\n",
       "        vertical-align: middle;\n",
       "    }\n",
       "\n",
       "    .dataframe tbody tr th {\n",
       "        vertical-align: top;\n",
       "    }\n",
       "\n",
       "    .dataframe thead th {\n",
       "        text-align: right;\n",
       "    }\n",
       "</style>\n",
       "<table border=\"1\" class=\"dataframe\">\n",
       "  <thead>\n",
       "    <tr style=\"text-align: right;\">\n",
       "      <th></th>\n",
       "      <th>Name</th>\n",
       "      <th>Price</th>\n",
       "      <th>Star</th>\n",
       "      <th>Rated</th>\n",
       "    </tr>\n",
       "  </thead>\n",
       "  <tbody>\n",
       "    <tr>\n",
       "      <th>0</th>\n",
       "      <td>Lepro 50ft LED Strip Lights, Ultra-Long RGB 50...</td>\n",
       "      <td>21.99</td>\n",
       "      <td>4.6</td>\n",
       "      <td>14357</td>\n",
       "    </tr>\n",
       "    <tr>\n",
       "      <th>1</th>\n",
       "      <td>65.6ft Led Strip Lights Jadisi Music Sync RGB ...</td>\n",
       "      <td>21.99</td>\n",
       "      <td>4.6</td>\n",
       "      <td>3872</td>\n",
       "    </tr>\n",
       "    <tr>\n",
       "      <th>2</th>\n",
       "      <td>Lepro 65.6ft LED Strip Lights, Ultra-Long RGB ...</td>\n",
       "      <td>26.99</td>\n",
       "      <td>4.6</td>\n",
       "      <td>8645</td>\n",
       "    </tr>\n",
       "    <tr>\n",
       "      <th>3</th>\n",
       "      <td>50 FT Long LED Strip Lights, GUPUP LED Lights ...</td>\n",
       "      <td>18.99</td>\n",
       "      <td>4.6</td>\n",
       "      <td>1399</td>\n",
       "    </tr>\n",
       "    <tr>\n",
       "      <th>4</th>\n",
       "      <td>Tenmiro 65.6ft Led Strip Lights, Ultra Long RG...</td>\n",
       "      <td>28.99</td>\n",
       "      <td>4.6</td>\n",
       "      <td>47861</td>\n",
       "    </tr>\n",
       "  </tbody>\n",
       "</table>\n",
       "</div>"
      ]
     },
     "metadata": {},
     "execution_count": 40
    }
   ],
   "metadata": {}
  },
  {
   "cell_type": "code",
   "execution_count": null,
   "source": [],
   "outputs": [],
   "metadata": {}
  }
 ],
 "metadata": {
  "orig_nbformat": 4,
  "language_info": {
   "name": "python",
   "version": "3.8.3",
   "mimetype": "text/x-python",
   "codemirror_mode": {
    "name": "ipython",
    "version": 3
   },
   "pygments_lexer": "ipython3",
   "nbconvert_exporter": "python",
   "file_extension": ".py"
  },
  "kernelspec": {
   "name": "python3",
   "display_name": "Python 3.8.3 64-bit ('base': conda)"
  },
  "interpreter": {
   "hash": "7b4db6f4314de8d4cd797f28a178c3ff3d1b87f4cb8353b93947a436002fe6e1"
  }
 },
 "nbformat": 4,
 "nbformat_minor": 2
}