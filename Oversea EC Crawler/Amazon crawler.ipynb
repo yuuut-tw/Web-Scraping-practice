{
 "cells": [
  {
   "cell_type": "code",
   "execution_count": 10,
   "source": [
    "import pandas as pd\n",
    "import re\n",
    "import requests\n",
    "from bs4 import BeautifulSoup\n",
    "from selenium.webdriver import Chrome\n",
    "from selenium.webdriver.support.ui import Select\n",
    "import time"
   ],
   "outputs": [],
   "metadata": {}
  },
  {
   "cell_type": "code",
   "execution_count": 6,
   "source": [
    "# amazon website\n",
    "url = \"https://www.amazon.com/s?k=led&ref=nb_sb_noss_2\"\n",
    "\n",
    "header = {\"user-agent\":\"Mozilla/5.0 (Macintosh; Intel Mac OS X 10_15_7) AppleWebKit/537.36 (KHTML, like Gecko) Chrome/92.0.4515.159 Safari/537.36\",\n",
    "          'cookie': 'session-id=136-6766982-5860004; session-id-time=2082787201l; sp-cdn=\"L5Z9:TW\"; ubid-main=130-9209971-5955330; session-token=pVazN62vPRjiuDjN45tA43nH8DiNXYfcOa99xhYEXA0U/x6ulYkLuKutM1jiMfY83QABeddgRmIzYA1vEh0QsWUm9QeEJeJaHzgT8DHoQnxA8jR+YuQa6vilTZHZ9smiF9JMRTx8OpQzupWSQxEZA7VadmyixUmi5klaRxWzN+8mcr8V7ljJ8wTHUHxhyhqt; lc-main=en_US; i18n-prefs=USD; csm-hit=tb:ZK67JQSZ17TSG8PPFBZ5+s-17GRW1S7EWCY3AF68K80|1630561263645&t:1630561263645&adb:adblk_yes'}\n",
    "\n",
    "ss = requests.session()\n",
    "res = ss.get(url, headers=header)"
   ],
   "outputs": [],
   "metadata": {}
  },
  {
   "cell_type": "code",
   "execution_count": 7,
   "source": [
    "soup = BeautifulSoup(res.text, features='html.parser')"
   ],
   "outputs": [],
   "metadata": {}
  },
  {
   "cell_type": "code",
   "execution_count": 16,
   "source": [
    "url = \"https://www.amazon.com/s?k=led&ref=nb_sb_noss_2\"\n",
    "driver = Chrome(\"../chromedriver\")\n",
    "driver.get(url)\n",
    "time.sleep(2)\n",
    "\n",
    "# 取得頁面的html\n",
    "soup = BeautifulSoup(driver.page_source, \"html.parser\")\n",
    "\n",
    "driver.close()"
   ],
   "outputs": [],
   "metadata": {}
  },
  {
   "cell_type": "code",
   "execution_count": null,
   "source": [
    "# 總共77個\n",
    "product_info = soup.select(\"div[class='a-section a-spacing-none']\")"
   ],
   "outputs": [],
   "metadata": {}
  },
  {
   "cell_type": "code",
   "execution_count": 64,
   "source": [
    "product_info[0]"
   ],
   "outputs": [
    {
     "output_type": "execute_result",
     "data": {
      "text/plain": [
       "<div class=\"a-section a-spacing-none\"><div class=\"a-section a-spacing-none a-spacing-top-small\"><div class=\"a-row a-spacing-micro\"><span class=\"a-declarative\" data-a-popover='{\"closeButton\":\"true\",\"dataStrategy\":\"preload\",\"name\":\"sp-info-popover-mobile\"}' data-action=\"a-popover\"><span class=\"s-sponsored-label-text\"><span class=\"a-color-secondary\">贊助</span></span></span><div class=\"a-popover-preload\" id=\"a-popover-sp-info-popover-mobile\"><span class=\"a-color-secondary\">贊助</span></div></div><h2 class=\"a-size-mini a-spacing-none a-color-base s-line-clamp-4\"><a class=\"a-link-normal a-text-normal\" href=\"/-/zh_TW/gp/slredirect/picassoRedirect.html/ref=pa_sp_atf_aps_sr_pg1_1?ie=UTF8&amp;adId=A00448563RG9K8SPYSBWC&amp;url=%2FLepro-LED-%25E5%25B8%25B6%25E9%2581%2599%25E6%258E%25A7%25E5%2599%25A8%25E5%2592%258C%25E5%259B%25BA%25E5%25AE%259A%25E5%25A4%25BE-%25E8%25AE%258A%25E8%2589%25B2%25E8%2586%25A0%25E5%25B8%25B6%25E7%2587%2588-%25E9%2581%25A9%25E7%2594%25A8%25E6%2596%25BC%25E8%2587%25A5%25E5%25AE%25A4%25E3%2580%2581%25E6%2588%25BF%25E9%2596%2593%25E3%2580%2581%25E5%25BB%259A%25E6%2588%25BF%25E3%2580%2581%25E9%2585%2592%25E5%2590%25A7%2Fdp%2FB086V83WGS%2Fref%3Dsr_1_1_sspa%3Fdchild%3D1%26keywords%3Dled%26qid%3D1630564022%26sr%3D8-1-spons%26psc%3D1&amp;qualifier=1630564022&amp;id=4294422370860412&amp;widgetName=sp_atf\"><span class=\"a-size-base-plus a-color-base a-text-normal\">Lepro 50 英尺(約 15.2 公尺)LED 條燈,超長 RGB 5050 LED 條帶,帶遙控器和固定夾,變色膠帶燈,附 24V ETL 認證適配器,適用於臥室、房間、廚房、酒吧(2 X 24.6 呎)</span> </a> </h2></div><div class=\"a-section a-spacing-none a-spacing-top-micro\"><div class=\"a-row a-size-small\"><span aria-label=\"4.6 顆星，最高 5 顆星\"><span class=\"a-declarative\" data-a-popover='{\"closeButton\":false,\"closeButtonLabel\":\"\",\"position\":\"triggerBottom\",\"popoverLabel\":\"\",\"url\":\"/review/widgets/average-customer-review/popover/ref=acr_search__popover?ie=UTF8&amp;asin=B086V83WGS&amp;ref=acr_search__popover&amp;contextId=search\"}' data-action=\"a-popover\"><a class=\"a-popover-trigger a-declarative\" href=\"javascript:void(0)\" role=\"button\"><i class=\"a-icon a-icon-star-small a-star-small-4-5 aok-align-bottom\"><span class=\"a-icon-alt\">4.6 顆星，最高 5 顆星</span></i><i class=\"a-icon a-icon-popover\"></i></a></span> </span><span aria-label=\"14,342\"><a class=\"a-link-normal\" href=\"/-/zh_TW/gp/slredirect/picassoRedirect.html/ref=pa_sp_atf_aps_sr_pg1_1?ie=UTF8&amp;adId=A00448563RG9K8SPYSBWC&amp;url=%2FLepro-LED-%25E5%25B8%25B6%25E9%2581%2599%25E6%258E%25A7%25E5%2599%25A8%25E5%2592%258C%25E5%259B%25BA%25E5%25AE%259A%25E5%25A4%25BE-%25E8%25AE%258A%25E8%2589%25B2%25E8%2586%25A0%25E5%25B8%25B6%25E7%2587%2588-%25E9%2581%25A9%25E7%2594%25A8%25E6%2596%25BC%25E8%2587%25A5%25E5%25AE%25A4%25E3%2580%2581%25E6%2588%25BF%25E9%2596%2593%25E3%2580%2581%25E5%25BB%259A%25E6%2588%25BF%25E3%2580%2581%25E9%2585%2592%25E5%2590%25A7%2Fdp%2FB086V83WGS%2Fref%3Dsr_1_1_sspa%3Fdchild%3D1%26keywords%3Dled%26qid%3D1630564022%26sr%3D8-1-spons%26psc%3D1&amp;qualifier=1630564022&amp;id=4294422370860412&amp;widgetName=sp_atf#customerReviews\"><span class=\"a-size-base\">14,342</span> </a> </span></div></div><div class=\"a-section a-spacing-none a-spacing-top-small\"><div class=\"a-row a-size-base a-color-base\"><a class=\"a-size-base a-link-normal a-text-normal\" href=\"/-/zh_TW/gp/slredirect/picassoRedirect.html/ref=pa_sp_atf_aps_sr_pg1_1?ie=UTF8&amp;adId=A00448563RG9K8SPYSBWC&amp;url=%2FLepro-LED-%25E5%25B8%25B6%25E9%2581%2599%25E6%258E%25A7%25E5%2599%25A8%25E5%2592%258C%25E5%259B%25BA%25E5%25AE%259A%25E5%25A4%25BE-%25E8%25AE%258A%25E8%2589%25B2%25E8%2586%25A0%25E5%25B8%25B6%25E7%2587%2588-%25E9%2581%25A9%25E7%2594%25A8%25E6%2596%25BC%25E8%2587%25A5%25E5%25AE%25A4%25E3%2580%2581%25E6%2588%25BF%25E9%2596%2593%25E3%2580%2581%25E5%25BB%259A%25E6%2588%25BF%25E3%2580%2581%25E9%2585%2592%25E5%2590%25A7%2Fdp%2FB086V83WGS%2Fref%3Dsr_1_1_sspa%3Fdchild%3D1%26keywords%3Dled%26qid%3D1630564022%26sr%3D8-1-spons%26psc%3D1&amp;qualifier=1630564022&amp;id=4294422370860412&amp;widgetName=sp_atf\"><span class=\"a-price\" data-a-color=\"base\" data-a-size=\"l\"><span class=\"a-offscreen\">US$21.99</span><span aria-hidden=\"true\"><span class=\"a-price-symbol\">US$</span><span class=\"a-price-whole\">21<span class=\"a-price-decimal\">.</span></span><span class=\"a-price-fraction\">99</span></span></span> <span class=\"a-size-base a-color-secondary\">(US$0.44/Feet)</span> <span class=\"a-price a-text-price\" data-a-color=\"secondary\" data-a-size=\"b\" data-a-strike=\"true\"><span class=\"a-offscreen\">US$25.99</span><span aria-hidden=\"true\">US$25.99</span></span> </a> </div><div class=\"a-row a-size-small a-color-secondary\"><span class=\"rush-component\" data-component-id=\"2\" data-component-props='{\"asin\":\"B086V83WGS\"}' data-component-type=\"s-coupon-component\"><span class=\"s-coupon-clipped aok-hidden\"><span class=\"a-color-base\">結帳時套用 US$3.00 優惠券</span></span><span class=\"s-coupon-unclipped\"><span class=\"a-size-base s-highlighted-text-padding aok-inline-block s-coupon-highlight-color\">儲存 US$3.00</span> <span class=\"a-color-base\"> 使用優惠卷</span></span></span> </div></div><div class=\"a-section a-spacing-none a-spacing-top-micro\"><div class=\"a-row a-size-base a-color-secondary s-align-children-center\"><span class=\"a-text-bold\">免費送貨</span><span>至台灣當購買超過</span><span>US$60.00符合條件的產品</span></div></div></div>"
      ]
     },
     "metadata": {},
     "execution_count": 64
    }
   ],
   "metadata": {}
  },
  {
   "cell_type": "code",
   "execution_count": 62,
   "source": [
    "# 取得產品名稱\n",
    "title = product_info[0].select(\"span[class='a-size-base-plus a-color-base a-text-normal']\")[0].text\n",
    "title"
   ],
   "outputs": [
    {
     "output_type": "execute_result",
     "data": {
      "text/plain": [
       "'Lepro 50 英尺(約 15.2 公尺)LED 條燈,超長 RGB 5050 LED 條帶,帶遙控器和固定夾,變色膠帶燈,附 24V ETL 認證適配器,適用於臥室、房間、廚房、酒吧(2 X 24.6 呎)'"
      ]
     },
     "metadata": {},
     "execution_count": 62
    }
   ],
   "metadata": {}
  },
  {
   "cell_type": "code",
   "execution_count": 81,
   "source": [
    "# 取得價格\n",
    "price = product_info[0].select(\".a-offscreen\")[0].text   #(\"span[class='a-price'] > span[class='a-offscreen']\")[0].text\n",
    "price"
   ],
   "outputs": [
    {
     "output_type": "execute_result",
     "data": {
      "text/plain": [
       "'US$21.99'"
      ]
     },
     "metadata": {},
     "execution_count": 81
    }
   ],
   "metadata": {}
  },
  {
   "cell_type": "code",
   "execution_count": 83,
   "source": [
    "# 取得星星＆評分數\n",
    "star, rated_amount = [i.text for i in product_info[0].select(\"div[class='a-row a-size-small'] > span\")]\n",
    "star, rated_amount"
   ],
   "outputs": [
    {
     "output_type": "execute_result",
     "data": {
      "text/plain": [
       "('4.6 顆星，最高 5 顆星 ', '14,342  ')"
      ]
     },
     "metadata": {},
     "execution_count": 83
    }
   ],
   "metadata": {}
  },
  {
   "cell_type": "code",
   "execution_count": null,
   "source": [],
   "outputs": [],
   "metadata": {}
  }
 ],
 "metadata": {
  "orig_nbformat": 4,
  "language_info": {
   "name": "python",
   "version": "3.8.3",
   "mimetype": "text/x-python",
   "codemirror_mode": {
    "name": "ipython",
    "version": 3
   },
   "pygments_lexer": "ipython3",
   "nbconvert_exporter": "python",
   "file_extension": ".py"
  },
  "kernelspec": {
   "name": "python3",
   "display_name": "Python 3.8.3 64-bit ('base': conda)"
  },
  "interpreter": {
   "hash": "7b4db6f4314de8d4cd797f28a178c3ff3d1b87f4cb8353b93947a436002fe6e1"
  }
 },
 "nbformat": 4,
 "nbformat_minor": 2
}